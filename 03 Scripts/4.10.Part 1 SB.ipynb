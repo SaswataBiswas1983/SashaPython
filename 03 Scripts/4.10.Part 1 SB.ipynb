{
 "cells": [
  {
   "cell_type": "code",
   "execution_count": 1,
   "id": "4a080778-c746-42a1-941d-ab161caf1c0c",
   "metadata": {},
   "outputs": [],
   "source": [
    "# Importing required Libraries\n",
    "import pandas as pd\n",
    "import numpy as np\n",
    "import os\n",
    "import matplotlib.pyplot as plt\n",
    "import seaborn as sns\n",
    "import scipy"
   ]
  },
  {
   "cell_type": "code",
   "execution_count": 2,
   "id": "fd02ec7a-07af-4f1c-9b98-9b17e3db3f37",
   "metadata": {},
   "outputs": [],
   "source": [
    "# Creating path for easier Access:\n",
    "\n",
    "path = r'C:\\Users\\Lenovo\\Desktop\\Career Foundry\\28-06-2024 Instacart Basket Analysis - Saswata Biswas'"
   ]
  },
  {
   "cell_type": "code",
   "execution_count": 5,
   "id": "9745bf6f-64dc-425d-a093-0636f97d13a3",
   "metadata": {},
   "outputs": [],
   "source": [
    "# Importing the latest file\n",
    "ords_prods_cust_merge = pd.read_pickle(os.path.join(path, '02 Data', 'Prepared Data', 'orders_products_customers_merged.pkl'))\n"
   ]
  },
  {
   "cell_type": "code",
   "execution_count": 7,
   "id": "9846cfd3-32a6-486f-9891-b35287405192",
   "metadata": {},
   "outputs": [],
   "source": [
    "# No one will understand scientific numbers. Changing the display setting:\n",
    "pd.set_option('display.float_format', lambda x: '%.2f' % x)\n"
   ]
  },
  {
   "cell_type": "markdown",
   "id": "ec2ba9d1-ed50-4b52-9a22-adf62c72318b",
   "metadata": {},
   "source": [
    "### Q02. Consider any security implications that might exist for this new data. You’ll need to address any PII data in the data before continuing your analysis."
   ]
  },
  {
   "cell_type": "markdown",
   "id": "4cd05f42-39a3-4821-8798-73d6a9a297c8",
   "metadata": {},
   "source": [
    "### \r\n",
    "\r\n",
    "I would ask my Supervisor/senior colleague and remove the first_name and surname columns. As of now I am leaving them as they are as they are just fabricated samples."
   ]
  },
  {
   "cell_type": "markdown",
   "id": "27d9858e-94a9-48cb-8d5b-a4ea99aef677",
   "metadata": {},
   "source": [
    "### Q03. The Instacart officers are interested in comparing customer behavior in different geographic areas. Create a regional segmentation of the data. You’ll need to create a “Region” column based on the “State” column from your customers data set."
   ]
  },
  {
   "cell_type": "code",
   "execution_count": 12,
   "id": "36b25c9e-6e07-4bb2-a500-81ed9b0461b5",
   "metadata": {},
   "outputs": [
    {
     "data": {
      "text/plain": [
       "order_id                     int32\n",
       "user_id                      int32\n",
       "order_number                  int8\n",
       "orders_days_of_week           int8\n",
       "order_hour_of_day             int8\n",
       "days_since_prior_order     float16\n",
       "product_id                   int32\n",
       "add_to_cart_order            int16\n",
       "reordered                     int8\n",
       "product_name                object\n",
       "aisle_id                     int16\n",
       "department_id                 int8\n",
       "prices                     float64\n",
       "price_range_loc             object\n",
       "busiest_day                 object\n",
       "busiest_days                object\n",
       "busiest_period_of_day       object\n",
       "max_order                     int8\n",
       "loyalty_flag                object\n",
       "average_spend              float64\n",
       "spender_flag                object\n",
       "customer_frequency         float16\n",
       "frequency_flag              object\n",
       "first_name                  object\n",
       "surname                     object\n",
       "gender                      object\n",
       "state                       object\n",
       "age                          int16\n",
       "date_joined                 object\n",
       "n_dependants                  int8\n",
       "marital_status              object\n",
       "income                       int32\n",
       "_merge                    category\n",
       "dtype: object"
      ]
     },
     "execution_count": 12,
     "metadata": {},
     "output_type": "execute_result"
    }
   ],
   "source": [
    "# Checking to see which row has the names of the cities:\n",
    "ords_prods_cust_merge.dtypes"
   ]
  },
  {
   "cell_type": "markdown",
   "id": "17bc4f14-a09b-4854-a3de-f86119e643c5",
   "metadata": {},
   "source": [
    "#### We can use the \"state\" column to create the region column"
   ]
  },
  {
   "cell_type": "code",
   "execution_count": 14,
   "id": "c6aaecc0-beff-4b9a-a66b-542b9bc26eb9",
   "metadata": {},
   "outputs": [],
   "source": [
    "# Creating region list:\n",
    "\n",
    "Northeast=['Maine','New Hampshire','Vermont','Massachusetts','Rhode Island','Connecticut','New York','Pennsylvania','New Jersey']\n",
    "\n",
    "Midwest=['Wisconsin','Michigan','Illinois','Indiana','Ohio','North Dakota','South Dakota','Nebraska','Kansas','Minnesota','Iowa','Missouri']\n",
    "\n",
    "South=['Delaware','Maryland','District of Columbia','Virginia','West Virginia','North Carolina','South Carolina','Georgia','Florida','Kentucky','Tennessee','Mississippi','Alabama','Oklahoma','Texas','Arkansas','Louisiana']\n",
    "\n",
    "West=['Idaho','Montana','Wyoming','Nevada','Utah','Colorado','Arizona','New Mexico','Alaska','Washington','Oregon','California','Hawaii']\n"
   ]
  },
  {
   "cell_type": "code",
   "execution_count": 20,
   "id": "31948587-7939-467f-91f4-70717fa5b464",
   "metadata": {},
   "outputs": [],
   "source": [
    "# Creating region Column:\n",
    "\n",
    "ords_prods_cust_merge.loc[ords_prods_cust_merge['state'].isin(Northeast),'region']='Northeast'\n",
    "\n",
    "ords_prods_cust_merge.loc[ords_prods_cust_merge['state'].isin(Midwest),'region']='Midwest'\n",
    "\n",
    "ords_prods_cust_merge.loc[ords_prods_cust_merge['state'].isin(South),'region']='South'\n",
    "\n",
    "ords_prods_cust_merge.loc[ords_prods_cust_merge['state'].isin(West),'region']='West'"
   ]
  },
  {
   "cell_type": "code",
   "execution_count": 22,
   "id": "afdccb58-ef5d-4ed2-aa81-b74ce028c5ad",
   "metadata": {},
   "outputs": [
    {
     "data": {
      "text/html": [
       "<div>\n",
       "<style scoped>\n",
       "    .dataframe tbody tr th:only-of-type {\n",
       "        vertical-align: middle;\n",
       "    }\n",
       "\n",
       "    .dataframe tbody tr th {\n",
       "        vertical-align: top;\n",
       "    }\n",
       "\n",
       "    .dataframe thead th {\n",
       "        text-align: right;\n",
       "    }\n",
       "</style>\n",
       "<table border=\"1\" class=\"dataframe\">\n",
       "  <thead>\n",
       "    <tr style=\"text-align: right;\">\n",
       "      <th></th>\n",
       "      <th>order_id</th>\n",
       "      <th>user_id</th>\n",
       "      <th>order_number</th>\n",
       "      <th>orders_days_of_week</th>\n",
       "      <th>order_hour_of_day</th>\n",
       "      <th>days_since_prior_order</th>\n",
       "      <th>product_id</th>\n",
       "      <th>add_to_cart_order</th>\n",
       "      <th>reordered</th>\n",
       "      <th>product_name</th>\n",
       "      <th>...</th>\n",
       "      <th>surname</th>\n",
       "      <th>gender</th>\n",
       "      <th>state</th>\n",
       "      <th>age</th>\n",
       "      <th>date_joined</th>\n",
       "      <th>n_dependants</th>\n",
       "      <th>marital_status</th>\n",
       "      <th>income</th>\n",
       "      <th>_merge</th>\n",
       "      <th>region</th>\n",
       "    </tr>\n",
       "  </thead>\n",
       "  <tbody>\n",
       "    <tr>\n",
       "      <th>0</th>\n",
       "      <td>2539329</td>\n",
       "      <td>1</td>\n",
       "      <td>1</td>\n",
       "      <td>2</td>\n",
       "      <td>8</td>\n",
       "      <td>0.00</td>\n",
       "      <td>196</td>\n",
       "      <td>1</td>\n",
       "      <td>0</td>\n",
       "      <td>Soda</td>\n",
       "      <td>...</td>\n",
       "      <td>Nguyen</td>\n",
       "      <td>Female</td>\n",
       "      <td>Alabama</td>\n",
       "      <td>31</td>\n",
       "      <td>2/17/2019</td>\n",
       "      <td>3</td>\n",
       "      <td>married</td>\n",
       "      <td>40423</td>\n",
       "      <td>both</td>\n",
       "      <td>South</td>\n",
       "    </tr>\n",
       "    <tr>\n",
       "      <th>1</th>\n",
       "      <td>2539329</td>\n",
       "      <td>1</td>\n",
       "      <td>1</td>\n",
       "      <td>2</td>\n",
       "      <td>8</td>\n",
       "      <td>0.00</td>\n",
       "      <td>14084</td>\n",
       "      <td>2</td>\n",
       "      <td>0</td>\n",
       "      <td>Organic Unsweetened Vanilla Almond Milk</td>\n",
       "      <td>...</td>\n",
       "      <td>Nguyen</td>\n",
       "      <td>Female</td>\n",
       "      <td>Alabama</td>\n",
       "      <td>31</td>\n",
       "      <td>2/17/2019</td>\n",
       "      <td>3</td>\n",
       "      <td>married</td>\n",
       "      <td>40423</td>\n",
       "      <td>both</td>\n",
       "      <td>South</td>\n",
       "    </tr>\n",
       "    <tr>\n",
       "      <th>2</th>\n",
       "      <td>2539329</td>\n",
       "      <td>1</td>\n",
       "      <td>1</td>\n",
       "      <td>2</td>\n",
       "      <td>8</td>\n",
       "      <td>0.00</td>\n",
       "      <td>12427</td>\n",
       "      <td>3</td>\n",
       "      <td>0</td>\n",
       "      <td>Original Beef Jerky</td>\n",
       "      <td>...</td>\n",
       "      <td>Nguyen</td>\n",
       "      <td>Female</td>\n",
       "      <td>Alabama</td>\n",
       "      <td>31</td>\n",
       "      <td>2/17/2019</td>\n",
       "      <td>3</td>\n",
       "      <td>married</td>\n",
       "      <td>40423</td>\n",
       "      <td>both</td>\n",
       "      <td>South</td>\n",
       "    </tr>\n",
       "    <tr>\n",
       "      <th>3</th>\n",
       "      <td>2539329</td>\n",
       "      <td>1</td>\n",
       "      <td>1</td>\n",
       "      <td>2</td>\n",
       "      <td>8</td>\n",
       "      <td>0.00</td>\n",
       "      <td>26088</td>\n",
       "      <td>4</td>\n",
       "      <td>0</td>\n",
       "      <td>Aged White Cheddar Popcorn</td>\n",
       "      <td>...</td>\n",
       "      <td>Nguyen</td>\n",
       "      <td>Female</td>\n",
       "      <td>Alabama</td>\n",
       "      <td>31</td>\n",
       "      <td>2/17/2019</td>\n",
       "      <td>3</td>\n",
       "      <td>married</td>\n",
       "      <td>40423</td>\n",
       "      <td>both</td>\n",
       "      <td>South</td>\n",
       "    </tr>\n",
       "    <tr>\n",
       "      <th>4</th>\n",
       "      <td>2539329</td>\n",
       "      <td>1</td>\n",
       "      <td>1</td>\n",
       "      <td>2</td>\n",
       "      <td>8</td>\n",
       "      <td>0.00</td>\n",
       "      <td>26405</td>\n",
       "      <td>5</td>\n",
       "      <td>0</td>\n",
       "      <td>XL Pick-A-Size Paper Towel Rolls</td>\n",
       "      <td>...</td>\n",
       "      <td>Nguyen</td>\n",
       "      <td>Female</td>\n",
       "      <td>Alabama</td>\n",
       "      <td>31</td>\n",
       "      <td>2/17/2019</td>\n",
       "      <td>3</td>\n",
       "      <td>married</td>\n",
       "      <td>40423</td>\n",
       "      <td>both</td>\n",
       "      <td>South</td>\n",
       "    </tr>\n",
       "    <tr>\n",
       "      <th>5</th>\n",
       "      <td>2398795</td>\n",
       "      <td>1</td>\n",
       "      <td>2</td>\n",
       "      <td>3</td>\n",
       "      <td>7</td>\n",
       "      <td>15.00</td>\n",
       "      <td>196</td>\n",
       "      <td>1</td>\n",
       "      <td>1</td>\n",
       "      <td>Soda</td>\n",
       "      <td>...</td>\n",
       "      <td>Nguyen</td>\n",
       "      <td>Female</td>\n",
       "      <td>Alabama</td>\n",
       "      <td>31</td>\n",
       "      <td>2/17/2019</td>\n",
       "      <td>3</td>\n",
       "      <td>married</td>\n",
       "      <td>40423</td>\n",
       "      <td>both</td>\n",
       "      <td>South</td>\n",
       "    </tr>\n",
       "    <tr>\n",
       "      <th>6</th>\n",
       "      <td>2398795</td>\n",
       "      <td>1</td>\n",
       "      <td>2</td>\n",
       "      <td>3</td>\n",
       "      <td>7</td>\n",
       "      <td>15.00</td>\n",
       "      <td>10258</td>\n",
       "      <td>2</td>\n",
       "      <td>0</td>\n",
       "      <td>Pistachios</td>\n",
       "      <td>...</td>\n",
       "      <td>Nguyen</td>\n",
       "      <td>Female</td>\n",
       "      <td>Alabama</td>\n",
       "      <td>31</td>\n",
       "      <td>2/17/2019</td>\n",
       "      <td>3</td>\n",
       "      <td>married</td>\n",
       "      <td>40423</td>\n",
       "      <td>both</td>\n",
       "      <td>South</td>\n",
       "    </tr>\n",
       "    <tr>\n",
       "      <th>7</th>\n",
       "      <td>2398795</td>\n",
       "      <td>1</td>\n",
       "      <td>2</td>\n",
       "      <td>3</td>\n",
       "      <td>7</td>\n",
       "      <td>15.00</td>\n",
       "      <td>12427</td>\n",
       "      <td>3</td>\n",
       "      <td>1</td>\n",
       "      <td>Original Beef Jerky</td>\n",
       "      <td>...</td>\n",
       "      <td>Nguyen</td>\n",
       "      <td>Female</td>\n",
       "      <td>Alabama</td>\n",
       "      <td>31</td>\n",
       "      <td>2/17/2019</td>\n",
       "      <td>3</td>\n",
       "      <td>married</td>\n",
       "      <td>40423</td>\n",
       "      <td>both</td>\n",
       "      <td>South</td>\n",
       "    </tr>\n",
       "    <tr>\n",
       "      <th>8</th>\n",
       "      <td>2398795</td>\n",
       "      <td>1</td>\n",
       "      <td>2</td>\n",
       "      <td>3</td>\n",
       "      <td>7</td>\n",
       "      <td>15.00</td>\n",
       "      <td>13176</td>\n",
       "      <td>4</td>\n",
       "      <td>0</td>\n",
       "      <td>Bag of Organic Bananas</td>\n",
       "      <td>...</td>\n",
       "      <td>Nguyen</td>\n",
       "      <td>Female</td>\n",
       "      <td>Alabama</td>\n",
       "      <td>31</td>\n",
       "      <td>2/17/2019</td>\n",
       "      <td>3</td>\n",
       "      <td>married</td>\n",
       "      <td>40423</td>\n",
       "      <td>both</td>\n",
       "      <td>South</td>\n",
       "    </tr>\n",
       "    <tr>\n",
       "      <th>9</th>\n",
       "      <td>2398795</td>\n",
       "      <td>1</td>\n",
       "      <td>2</td>\n",
       "      <td>3</td>\n",
       "      <td>7</td>\n",
       "      <td>15.00</td>\n",
       "      <td>26088</td>\n",
       "      <td>5</td>\n",
       "      <td>1</td>\n",
       "      <td>Aged White Cheddar Popcorn</td>\n",
       "      <td>...</td>\n",
       "      <td>Nguyen</td>\n",
       "      <td>Female</td>\n",
       "      <td>Alabama</td>\n",
       "      <td>31</td>\n",
       "      <td>2/17/2019</td>\n",
       "      <td>3</td>\n",
       "      <td>married</td>\n",
       "      <td>40423</td>\n",
       "      <td>both</td>\n",
       "      <td>South</td>\n",
       "    </tr>\n",
       "  </tbody>\n",
       "</table>\n",
       "<p>10 rows × 34 columns</p>\n",
       "</div>"
      ],
      "text/plain": [
       "   order_id  user_id  order_number  orders_days_of_week  order_hour_of_day  \\\n",
       "0   2539329        1             1                    2                  8   \n",
       "1   2539329        1             1                    2                  8   \n",
       "2   2539329        1             1                    2                  8   \n",
       "3   2539329        1             1                    2                  8   \n",
       "4   2539329        1             1                    2                  8   \n",
       "5   2398795        1             2                    3                  7   \n",
       "6   2398795        1             2                    3                  7   \n",
       "7   2398795        1             2                    3                  7   \n",
       "8   2398795        1             2                    3                  7   \n",
       "9   2398795        1             2                    3                  7   \n",
       "\n",
       "   days_since_prior_order  product_id  add_to_cart_order  reordered  \\\n",
       "0                    0.00         196                  1          0   \n",
       "1                    0.00       14084                  2          0   \n",
       "2                    0.00       12427                  3          0   \n",
       "3                    0.00       26088                  4          0   \n",
       "4                    0.00       26405                  5          0   \n",
       "5                   15.00         196                  1          1   \n",
       "6                   15.00       10258                  2          0   \n",
       "7                   15.00       12427                  3          1   \n",
       "8                   15.00       13176                  4          0   \n",
       "9                   15.00       26088                  5          1   \n",
       "\n",
       "                              product_name  ...  surname  gender    state age  \\\n",
       "0                                     Soda  ...   Nguyen  Female  Alabama  31   \n",
       "1  Organic Unsweetened Vanilla Almond Milk  ...   Nguyen  Female  Alabama  31   \n",
       "2                      Original Beef Jerky  ...   Nguyen  Female  Alabama  31   \n",
       "3               Aged White Cheddar Popcorn  ...   Nguyen  Female  Alabama  31   \n",
       "4         XL Pick-A-Size Paper Towel Rolls  ...   Nguyen  Female  Alabama  31   \n",
       "5                                     Soda  ...   Nguyen  Female  Alabama  31   \n",
       "6                               Pistachios  ...   Nguyen  Female  Alabama  31   \n",
       "7                      Original Beef Jerky  ...   Nguyen  Female  Alabama  31   \n",
       "8                   Bag of Organic Bananas  ...   Nguyen  Female  Alabama  31   \n",
       "9               Aged White Cheddar Popcorn  ...   Nguyen  Female  Alabama  31   \n",
       "\n",
       "  date_joined n_dependants marital_status  income _merge  region  \n",
       "0   2/17/2019            3        married   40423   both   South  \n",
       "1   2/17/2019            3        married   40423   both   South  \n",
       "2   2/17/2019            3        married   40423   both   South  \n",
       "3   2/17/2019            3        married   40423   both   South  \n",
       "4   2/17/2019            3        married   40423   both   South  \n",
       "5   2/17/2019            3        married   40423   both   South  \n",
       "6   2/17/2019            3        married   40423   both   South  \n",
       "7   2/17/2019            3        married   40423   both   South  \n",
       "8   2/17/2019            3        married   40423   both   South  \n",
       "9   2/17/2019            3        married   40423   both   South  \n",
       "\n",
       "[10 rows x 34 columns]"
      ]
     },
     "execution_count": 22,
     "metadata": {},
     "output_type": "execute_result"
    }
   ],
   "source": [
    "# Checking Newly Created Region Column\n",
    "ords_prods_cust_merge.head(10)"
   ]
  },
  {
   "cell_type": "code",
   "execution_count": 24,
   "id": "5aa5419b-0f00-434b-a3e9-e408b811befe",
   "metadata": {},
   "outputs": [
    {
     "data": {
      "text/html": [
       "<div>\n",
       "<style scoped>\n",
       "    .dataframe tbody tr th:only-of-type {\n",
       "        vertical-align: middle;\n",
       "    }\n",
       "\n",
       "    .dataframe tbody tr th {\n",
       "        vertical-align: top;\n",
       "    }\n",
       "\n",
       "    .dataframe thead th {\n",
       "        text-align: right;\n",
       "    }\n",
       "</style>\n",
       "<table border=\"1\" class=\"dataframe\">\n",
       "  <thead>\n",
       "    <tr style=\"text-align: right;\">\n",
       "      <th></th>\n",
       "      <th>order_id</th>\n",
       "      <th>user_id</th>\n",
       "      <th>order_number</th>\n",
       "      <th>orders_days_of_week</th>\n",
       "      <th>order_hour_of_day</th>\n",
       "      <th>days_since_prior_order</th>\n",
       "      <th>product_id</th>\n",
       "      <th>add_to_cart_order</th>\n",
       "      <th>reordered</th>\n",
       "      <th>product_name</th>\n",
       "      <th>...</th>\n",
       "      <th>surname</th>\n",
       "      <th>gender</th>\n",
       "      <th>state</th>\n",
       "      <th>age</th>\n",
       "      <th>date_joined</th>\n",
       "      <th>n_dependants</th>\n",
       "      <th>marital_status</th>\n",
       "      <th>income</th>\n",
       "      <th>_merge</th>\n",
       "      <th>region</th>\n",
       "    </tr>\n",
       "  </thead>\n",
       "  <tbody>\n",
       "    <tr>\n",
       "      <th>32404854</th>\n",
       "      <td>2977660</td>\n",
       "      <td>206209</td>\n",
       "      <td>13</td>\n",
       "      <td>1</td>\n",
       "      <td>12</td>\n",
       "      <td>7.00</td>\n",
       "      <td>14197</td>\n",
       "      <td>5</td>\n",
       "      <td>1</td>\n",
       "      <td>Tomato Paste</td>\n",
       "      <td>...</td>\n",
       "      <td>Donovan</td>\n",
       "      <td>Female</td>\n",
       "      <td>Iowa</td>\n",
       "      <td>74</td>\n",
       "      <td>9/14/2019</td>\n",
       "      <td>3</td>\n",
       "      <td>married</td>\n",
       "      <td>137969</td>\n",
       "      <td>both</td>\n",
       "      <td>Midwest</td>\n",
       "    </tr>\n",
       "    <tr>\n",
       "      <th>32404855</th>\n",
       "      <td>2977660</td>\n",
       "      <td>206209</td>\n",
       "      <td>13</td>\n",
       "      <td>1</td>\n",
       "      <td>12</td>\n",
       "      <td>7.00</td>\n",
       "      <td>38730</td>\n",
       "      <td>6</td>\n",
       "      <td>0</td>\n",
       "      <td>Brownie Crunch High Protein Bar</td>\n",
       "      <td>...</td>\n",
       "      <td>Donovan</td>\n",
       "      <td>Female</td>\n",
       "      <td>Iowa</td>\n",
       "      <td>74</td>\n",
       "      <td>9/14/2019</td>\n",
       "      <td>3</td>\n",
       "      <td>married</td>\n",
       "      <td>137969</td>\n",
       "      <td>both</td>\n",
       "      <td>Midwest</td>\n",
       "    </tr>\n",
       "    <tr>\n",
       "      <th>32404856</th>\n",
       "      <td>2977660</td>\n",
       "      <td>206209</td>\n",
       "      <td>13</td>\n",
       "      <td>1</td>\n",
       "      <td>12</td>\n",
       "      <td>7.00</td>\n",
       "      <td>31477</td>\n",
       "      <td>7</td>\n",
       "      <td>0</td>\n",
       "      <td>High Protein Bar Chunky Peanut Butter</td>\n",
       "      <td>...</td>\n",
       "      <td>Donovan</td>\n",
       "      <td>Female</td>\n",
       "      <td>Iowa</td>\n",
       "      <td>74</td>\n",
       "      <td>9/14/2019</td>\n",
       "      <td>3</td>\n",
       "      <td>married</td>\n",
       "      <td>137969</td>\n",
       "      <td>both</td>\n",
       "      <td>Midwest</td>\n",
       "    </tr>\n",
       "    <tr>\n",
       "      <th>32404857</th>\n",
       "      <td>2977660</td>\n",
       "      <td>206209</td>\n",
       "      <td>13</td>\n",
       "      <td>1</td>\n",
       "      <td>12</td>\n",
       "      <td>7.00</td>\n",
       "      <td>6567</td>\n",
       "      <td>8</td>\n",
       "      <td>0</td>\n",
       "      <td>Chocolate Peanut Butter Protein Bar</td>\n",
       "      <td>...</td>\n",
       "      <td>Donovan</td>\n",
       "      <td>Female</td>\n",
       "      <td>Iowa</td>\n",
       "      <td>74</td>\n",
       "      <td>9/14/2019</td>\n",
       "      <td>3</td>\n",
       "      <td>married</td>\n",
       "      <td>137969</td>\n",
       "      <td>both</td>\n",
       "      <td>Midwest</td>\n",
       "    </tr>\n",
       "    <tr>\n",
       "      <th>32404858</th>\n",
       "      <td>2977660</td>\n",
       "      <td>206209</td>\n",
       "      <td>13</td>\n",
       "      <td>1</td>\n",
       "      <td>12</td>\n",
       "      <td>7.00</td>\n",
       "      <td>22920</td>\n",
       "      <td>9</td>\n",
       "      <td>0</td>\n",
       "      <td>Roasted &amp; Salted Shelled Pistachios</td>\n",
       "      <td>...</td>\n",
       "      <td>Donovan</td>\n",
       "      <td>Female</td>\n",
       "      <td>Iowa</td>\n",
       "      <td>74</td>\n",
       "      <td>9/14/2019</td>\n",
       "      <td>3</td>\n",
       "      <td>married</td>\n",
       "      <td>137969</td>\n",
       "      <td>both</td>\n",
       "      <td>Midwest</td>\n",
       "    </tr>\n",
       "  </tbody>\n",
       "</table>\n",
       "<p>5 rows × 34 columns</p>\n",
       "</div>"
      ],
      "text/plain": [
       "          order_id  user_id  order_number  orders_days_of_week  \\\n",
       "32404854   2977660   206209            13                    1   \n",
       "32404855   2977660   206209            13                    1   \n",
       "32404856   2977660   206209            13                    1   \n",
       "32404857   2977660   206209            13                    1   \n",
       "32404858   2977660   206209            13                    1   \n",
       "\n",
       "          order_hour_of_day  days_since_prior_order  product_id  \\\n",
       "32404854                 12                    7.00       14197   \n",
       "32404855                 12                    7.00       38730   \n",
       "32404856                 12                    7.00       31477   \n",
       "32404857                 12                    7.00        6567   \n",
       "32404858                 12                    7.00       22920   \n",
       "\n",
       "          add_to_cart_order  reordered                           product_name  \\\n",
       "32404854                  5          1                           Tomato Paste   \n",
       "32404855                  6          0        Brownie Crunch High Protein Bar   \n",
       "32404856                  7          0  High Protein Bar Chunky Peanut Butter   \n",
       "32404857                  8          0    Chocolate Peanut Butter Protein Bar   \n",
       "32404858                  9          0    Roasted & Salted Shelled Pistachios   \n",
       "\n",
       "          ...  surname  gender  state age date_joined n_dependants  \\\n",
       "32404854  ...  Donovan  Female   Iowa  74   9/14/2019            3   \n",
       "32404855  ...  Donovan  Female   Iowa  74   9/14/2019            3   \n",
       "32404856  ...  Donovan  Female   Iowa  74   9/14/2019            3   \n",
       "32404857  ...  Donovan  Female   Iowa  74   9/14/2019            3   \n",
       "32404858  ...  Donovan  Female   Iowa  74   9/14/2019            3   \n",
       "\n",
       "         marital_status  income _merge   region  \n",
       "32404854        married  137969   both  Midwest  \n",
       "32404855        married  137969   both  Midwest  \n",
       "32404856        married  137969   both  Midwest  \n",
       "32404857        married  137969   both  Midwest  \n",
       "32404858        married  137969   both  Midwest  \n",
       "\n",
       "[5 rows x 34 columns]"
      ]
     },
     "execution_count": 24,
     "metadata": {},
     "output_type": "execute_result"
    }
   ],
   "source": [
    "ords_prods_cust_merge.tail()"
   ]
  },
  {
   "cell_type": "code",
   "execution_count": 26,
   "id": "3c07e40b-7dff-4545-b6e3-0b49b8877e89",
   "metadata": {},
   "outputs": [
    {
     "data": {
      "text/plain": [
       "region\n",
       "South        10791885\n",
       "West          8292913\n",
       "Midwest       7597325\n",
       "Northeast     5722736\n",
       "Name: count, dtype: int64"
      ]
     },
     "execution_count": 26,
     "metadata": {},
     "output_type": "execute_result"
    }
   ],
   "source": [
    "# Checking to see if all the rows have region:\n",
    "\n",
    "ords_prods_cust_merge['region'].value_counts(dropna=False)"
   ]
  },
  {
   "cell_type": "markdown",
   "id": "5dcd2fc8-ca2e-4b3d-8100-77443e936b88",
   "metadata": {},
   "source": [
    "#### Determining spending habits between the different U.S. regions."
   ]
  },
  {
   "cell_type": "code",
   "execution_count": 28,
   "id": "7ebbc956-bf5b-4ed2-9373-17f8d1bfd5ff",
   "metadata": {},
   "outputs": [
    {
     "data": {
      "text/plain": [
       "spender_flag\n",
       "Low_spender     31770614\n",
       "High_spender      634245\n",
       "Name: count, dtype: int64"
      ]
     },
     "execution_count": 28,
     "metadata": {},
     "output_type": "execute_result"
    }
   ],
   "source": [
    "#Checking types of spenders:\n",
    "ords_prods_cust_merge['spender_flag'].value_counts(dropna=False)"
   ]
  },
  {
   "cell_type": "code",
   "execution_count": 30,
   "id": "284f0892-f15a-416b-807e-906961b3ac7d",
   "metadata": {},
   "outputs": [],
   "source": [
    "# Creating Crosstab between region and type_of_spend Columns\n",
    "region_spender_crosstab=pd.crosstab(ords_prods_cust_merge['region'],ords_prods_cust_merge['spender_flag'],dropna=False)"
   ]
  },
  {
   "cell_type": "code",
   "execution_count": 32,
   "id": "3ae367ff-098a-40b2-8160-617b5a4098fc",
   "metadata": {},
   "outputs": [
    {
     "data": {
      "text/html": [
       "<div>\n",
       "<style scoped>\n",
       "    .dataframe tbody tr th:only-of-type {\n",
       "        vertical-align: middle;\n",
       "    }\n",
       "\n",
       "    .dataframe tbody tr th {\n",
       "        vertical-align: top;\n",
       "    }\n",
       "\n",
       "    .dataframe thead th {\n",
       "        text-align: right;\n",
       "    }\n",
       "</style>\n",
       "<table border=\"1\" class=\"dataframe\">\n",
       "  <thead>\n",
       "    <tr style=\"text-align: right;\">\n",
       "      <th>spender_flag</th>\n",
       "      <th>High_spender</th>\n",
       "      <th>Low_spender</th>\n",
       "    </tr>\n",
       "    <tr>\n",
       "      <th>region</th>\n",
       "      <th></th>\n",
       "      <th></th>\n",
       "    </tr>\n",
       "  </thead>\n",
       "  <tbody>\n",
       "    <tr>\n",
       "      <th>Midwest</th>\n",
       "      <td>155975</td>\n",
       "      <td>7441350</td>\n",
       "    </tr>\n",
       "    <tr>\n",
       "      <th>Northeast</th>\n",
       "      <td>108225</td>\n",
       "      <td>5614511</td>\n",
       "    </tr>\n",
       "    <tr>\n",
       "      <th>South</th>\n",
       "      <td>209691</td>\n",
       "      <td>10582194</td>\n",
       "    </tr>\n",
       "    <tr>\n",
       "      <th>West</th>\n",
       "      <td>160354</td>\n",
       "      <td>8132559</td>\n",
       "    </tr>\n",
       "  </tbody>\n",
       "</table>\n",
       "</div>"
      ],
      "text/plain": [
       "spender_flag  High_spender  Low_spender\n",
       "region                                 \n",
       "Midwest             155975      7441350\n",
       "Northeast           108225      5614511\n",
       "South               209691     10582194\n",
       "West                160354      8132559"
      ]
     },
     "execution_count": 32,
     "metadata": {},
     "output_type": "execute_result"
    }
   ],
   "source": [
    "region_spender_crosstab"
   ]
  },
  {
   "cell_type": "markdown",
   "id": "7336c989-23d1-4a5f-8261-1ec5ce65b79c",
   "metadata": {},
   "source": [
    "### Looking at this, all I can see is south has the highest users mainly because it has the highest number of states, 17."
   ]
  },
  {
   "cell_type": "code",
   "execution_count": 34,
   "id": "baee3296-6d0f-4944-927d-a8a518c0191c",
   "metadata": {},
   "outputs": [
    {
     "data": {
      "image/png": "[encoded data removed]",
      "text/plain": [
       "<Figure size 640x480 with 1 Axes>"
      ]
     },
     "metadata": {},
     "output_type": "display_data"
    }
   ],
   "source": [
    "# For the non tech members, creating a bar chart:\n",
    "bar_region_spender=region_spender_crosstab.plot.bar(color=['red','yellow'])"
   ]
  },
  {
   "cell_type": "code",
   "execution_count": 45,
   "id": "d017f7b4-fc5e-48b9-8666-fbfefcb91c07",
   "metadata": {},
   "outputs": [],
   "source": [
    "# Exporting Bar Chart\n",
    "bar_region_spender.figure.savefig(os.path.join(path,'04 Analysis','Visualizations','region_spending_bar.png'))"
   ]
  },
  {
   "cell_type": "markdown",
   "id": "eb4b5c36-3528-47e9-8515-e370648651f8",
   "metadata": {},
   "source": [
    "### Q04.Instacart CFO isn’t interested in customers who don’t generate much revenue for the app. Create an exclusion flag for low-activity customers (customers with less than 5 orders) and exclude them from the data. Make sure you export this sample."
   ]
  },
  {
   "cell_type": "code",
   "execution_count": 36,
   "id": "1d955d01-f06b-40a0-ae9a-0781e7e0c32c",
   "metadata": {},
   "outputs": [],
   "source": [
    "# Creating Exclusion Flag Column for High-Activity Customers\n",
    "ords_prods_cust_merge.loc[ords_prods_cust_merge['max_order']>=5,'customer_activity_flag']='High Activity'"
   ]
  },
  {
   "cell_type": "code",
   "execution_count": 38,
   "id": "60a0af17-bfd7-46e0-8b7d-fdb92fff453c",
   "metadata": {},
   "outputs": [],
   "source": [
    "# Creating Exclusion Flag Column for Low-Activity Customers\n",
    "ords_prods_cust_merge.loc[ords_prods_cust_merge['max_order']<5,'customer_activity_flag']='Low Activity'"
   ]
  },
  {
   "cell_type": "code",
   "execution_count": 40,
   "id": "74246b0b-84d8-4f81-aebb-0355f4040740",
   "metadata": {},
   "outputs": [
    {
     "data": {
      "text/plain": [
       "customer_activity_flag\n",
       "High Activity    30964564\n",
       "Low Activity      1440295\n",
       "Name: count, dtype: int64"
      ]
     },
     "execution_count": 40,
     "metadata": {},
     "output_type": "execute_result"
    }
   ],
   "source": [
    "# Checking frequency variables of new customer activity flag column\n",
    "ords_prods_cust_merge['customer_activity_flag'].value_counts(dropna=False)"
   ]
  },
  {
   "cell_type": "code",
   "execution_count": 42,
   "id": "3edcb221-163c-43fc-ad3e-2d11c692f1e8",
   "metadata": {},
   "outputs": [],
   "source": [
    "# Creating Separate Dataframe for only High-Activity Customers\n",
    "df_high_activity=ords_prods_cust_merge[ords_prods_cust_merge['customer_activity_flag']=='High Activity']"
   ]
  },
  {
   "cell_type": "code",
   "execution_count": 44,
   "id": "b2ffde31-bd83-4199-ad47-1a693a35c6cf",
   "metadata": {},
   "outputs": [
    {
     "data": {
      "text/plain": [
       "customer_activity_flag\n",
       "High Activity    30964564\n",
       "Name: count, dtype: int64"
      ]
     },
     "execution_count": 44,
     "metadata": {},
     "output_type": "execute_result"
    }
   ],
   "source": [
    "# Checking frequency of new df:\n",
    "df_high_activity['customer_activity_flag'].value_counts(dropna=False)"
   ]
  },
  {
   "cell_type": "markdown",
   "id": "9a9a825d-83e4-4f81-be57-8899861166ad",
   "metadata": {},
   "source": [
    "##### The count matches the count in the old df."
   ]
  },
  {
   "cell_type": "code",
   "execution_count": 46,
   "id": "c0b1cd15-f144-4f06-9886-1391ea2ecc89",
   "metadata": {},
   "outputs": [],
   "source": [
    "# Exporting New Dataframe of only high activity customers\n",
    "df_high_activity.to_pickle(os.path.join(path,'02 Data','Prepared Data','orders_products_customers_high_activity.pkl'))"
   ]
  },
  {
   "cell_type": "markdown",
   "id": "fa8c3534-48fe-40d6-bb6b-6611b76d0df5",
   "metadata": {},
   "source": [
    "### Checked the \"Prepared data\" folder and it has been successfully exported"
   ]
  },
  {
   "cell_type": "markdown",
   "id": "66a79637-2a72-4393-b431-6f9b05f18586",
   "metadata": {},
   "source": [
    "### Q05.Create a profiling variable based on age, income, certain goods in the “department_id” column, and number of dependents. You might also use the “orders_day_of_week” and “order_hour_of_day” columns if you can think of a way they would impact customer profiles. (Hint: As an example, try thinking of what characteristics would lead you to the profile “Single adult” or “Young parent.”)\n",
    "\n",
    "### Q06. Visualizations are created while profiling"
   ]
  },
  {
   "cell_type": "code",
   "execution_count": 50,
   "id": "89186d14-7da5-4fdc-b4c5-d7d55e61d7df",
   "metadata": {},
   "outputs": [
    {
     "data": {
      "text/plain": [
       "(32404859, 35)"
      ]
     },
     "execution_count": 50,
     "metadata": {},
     "output_type": "execute_result"
    }
   ],
   "source": [
    "ords_prods_cust_merge.shape"
   ]
  },
  {
   "cell_type": "markdown",
   "id": "47b98988-87ab-42ac-9b47-ea9caa271c0f",
   "metadata": {},
   "source": [
    "#### 5.1 Profiling Based on Age"
   ]
  },
  {
   "cell_type": "code",
   "execution_count": 53,
   "id": "31028e36-d9f4-4de6-9cf4-315af6f0ada6",
   "metadata": {},
   "outputs": [
    {
     "data": {
      "text/plain": [
       "count   32404859.00\n",
       "mean          49.47\n",
       "std           18.49\n",
       "min           18.00\n",
       "25%           33.00\n",
       "50%           49.00\n",
       "75%           65.00\n",
       "max           81.00\n",
       "Name: age, dtype: float64"
      ]
     },
     "execution_count": 53,
     "metadata": {},
     "output_type": "execute_result"
    }
   ],
   "source": [
    "ords_prods_cust_merge['age'].describe()"
   ]
  },
  {
   "cell_type": "markdown",
   "id": "40285575-6197-495f-9a8a-5c69021a3049",
   "metadata": {},
   "source": [
    "Since the maximum age is 81, we will create 81 bins when we make the histogram"
   ]
  },
  {
   "cell_type": "code",
   "execution_count": 56,
   "id": "ff4a11cb-b0ff-4304-9255-86feb44a627f",
   "metadata": {},
   "outputs": [
    {
     "data": {
      "image/png": "[encoded data removed]",
      "text/plain": [
       "<Figure size 640x480 with 1 Axes>"
      ]
     },
     "metadata": {},
     "output_type": "display_data"
    }
   ],
   "source": [
    "hist = ords_prods_cust_merge['age'].plot.hist(bins=81)"
   ]
  },
  {
   "cell_type": "code",
   "execution_count": 58,
   "id": "5d99eb40-d678-4b1d-870e-644938b2f680",
   "metadata": {},
   "outputs": [],
   "source": [
    "# Creating age groups:\n",
    "ords_prods_cust_merge.loc[ords_prods_cust_merge['age']<=30,'age_group']='Young Adult'\n",
    "ords_prods_cust_merge.loc[(ords_prods_cust_merge['age']>30)&(ords_prods_cust_merge['age']<=60),'age_group']='Middle-Age Adult'\n",
    "ords_prods_cust_merge.loc[ords_prods_cust_merge['age']>60,'age_group']='Senior'"
   ]
  },
  {
   "cell_type": "code",
   "execution_count": 60,
   "id": "e725e3e4-045b-4632-bb03-ee654c3bb7ca",
   "metadata": {},
   "outputs": [
    {
     "data": {
      "text/plain": [
       "age_group\n",
       "Middle-Age Adult    15222661\n",
       "Senior              10582839\n",
       "Young Adult          6599359\n",
       "Name: count, dtype: int64"
      ]
     },
     "execution_count": 60,
     "metadata": {},
     "output_type": "execute_result"
    }
   ],
   "source": [
    "#Checking the counts:\n",
    "ords_prods_cust_merge['age_group'].value_counts(dropna=False)"
   ]
  },
  {
   "cell_type": "code",
   "execution_count": 62,
   "id": "9dbaed8c-6012-4c4c-8745-d7e6edde3c03",
   "metadata": {},
   "outputs": [
    {
     "data": {
      "image/png": "[encoded data removed]",
      "text/plain": [
       "<Figure size 800x800 with 1 Axes>"
      ]
     },
     "metadata": {},
     "output_type": "display_data"
    }
   ],
   "source": [
    "# Creating Bar Chart of Age Groups\n",
    "age_group_counts = ords_prods_cust_merge['age_group'].value_counts()\n",
    "plt.figure(figsize=(8,8))\n",
    "age_group_bar=age_group_counts.plot.bar(rot=0)\n",
    "plt.title('Age Group')\n",
    "plt.xlabel('')\n",
    "plt.ylabel('Count')\n",
    "plt.tight_layout\n",
    "plt.show()\n"
   ]
  },
  {
   "cell_type": "markdown",
   "id": "5a1dbae9-8cd1-4c3c-bcc9-edfc3b101f56",
   "metadata": {},
   "source": [
    "### Checked Chatgpt for the error message\n",
    "The error message \"'Axes' object is not callable\" typically occurs when you're trying to call an Axes object like a function. This can happen in the context of plotting with Matplotlib. To resolve this, ensure that you are using the correct syntax and method calls for Matplotlib. It was run in a previous script which I had to delete due to memory error."
   ]
  },
  {
   "cell_type": "code",
   "execution_count": 65,
   "id": "c9cf80fa-eaf6-4bb8-a23b-13e1c76eb70b",
   "metadata": {},
   "outputs": [],
   "source": [
    "# Exporting Age Group Bar Chart\n",
    "age_group_bar.figure.savefig(os.path.join(path,'04 Analysis','Visualizations','age_group_distribution_bar_chart.png'))"
   ]
  },
  {
   "cell_type": "markdown",
   "id": "dc39cde4-0c2e-4913-9a6a-d9ff3a87b746",
   "metadata": {},
   "source": [
    "#### 5.2 Profiling based on income"
   ]
  },
  {
   "cell_type": "code",
   "execution_count": 67,
   "id": "100eb85f-6dfb-4e34-9729-cf89e438627e",
   "metadata": {},
   "outputs": [],
   "source": [
    "# Categorize customers into income categories: low, middle, & high income groups based on standard considerations of US incomes.\n",
    "ords_prods_cust_merge.loc[ords_prods_cust_merge['income'] <= 50000, 'income_group'] = 'Low'\n",
    "ords_prods_cust_merge.loc[(ords_prods_cust_merge['income'] > 50000) & (ords_prods_cust_merge['income'] <= 100000), 'income_group'] = 'Middle'\n",
    "ords_prods_cust_merge.loc[ords_prods_cust_merge['income'] > 100000, 'income_group'] = 'High'"
   ]
  },
  {
   "cell_type": "code",
   "execution_count": 69,
   "id": "528b1cda-9c9c-488d-a662-98c87589ba8a",
   "metadata": {},
   "outputs": [
    {
     "data": {
      "text/plain": [
       "income_group\n",
       "High      14814202\n",
       "Middle    13996574\n",
       "Low        3594083\n",
       "Name: count, dtype: int64"
      ]
     },
     "execution_count": 69,
     "metadata": {},
     "output_type": "execute_result"
    }
   ],
   "source": [
    "# Check frequency of income_group \n",
    "ords_prods_cust_merge['income_group'].value_counts(dropna = False)"
   ]
  },
  {
   "cell_type": "code",
   "execution_count": 91,
   "id": "5e857dee-e3e9-4358-8aff-1c0cbf1f8c71",
   "metadata": {},
   "outputs": [],
   "source": [
    "# Creating Crosstab Bewtween income_group and region\n",
    "income_region_comparison=pd.crosstab(ords_prods_cust_merge['income_group'],ords_prods_cust_merge['region'],dropna=False)"
   ]
  },
  {
   "cell_type": "code",
   "execution_count": 93,
   "id": "37055b06-df21-4ce1-9c1b-4219a768a5da",
   "metadata": {},
   "outputs": [
    {
     "data": {
      "text/plain": [
       "<Figure size 1000x700 with 0 Axes>"
      ]
     },
     "metadata": {},
     "output_type": "display_data"
    },
    {
     "data": {
      "image/png": "[encoded data removed]",
      "text/plain": [
       "<Figure size 640x480 with 1 Axes>"
      ]
     },
     "metadata": {},
     "output_type": "display_data"
    }
   ],
   "source": [
    "# Creating Bar Chart for Income Group By Region Comparison\n",
    "plt.figure(figsize=(10, 7))\n",
    "income_region_comparison_bar = income_region_comparison.plot(kind='bar',rot=0)\n",
    "plt.title('Income Group By Region')\n",
    "plt.xlabel('Income Group')\n",
    "plt.ylabel('Count')\n",
    "plt.legend(title='Region')\n",
    "plt.tight_layout()\n",
    "plt.show()"
   ]
  },
  {
   "cell_type": "code",
   "execution_count": 95,
   "id": "7448e90b-07ce-46a3-a9f0-4879f59ec082",
   "metadata": {},
   "outputs": [],
   "source": [
    "# Exporting Income Region Comparison Bar Chart\n",
    "income_region_comparison_bar.figure.savefig(os.path.join(path,'04 Analysis','Visualizations','income_region_comparison_bar.png'))"
   ]
  },
  {
   "cell_type": "markdown",
   "id": "38be6d9e-8172-470e-b824-45c3d3fc7e72",
   "metadata": {},
   "source": [
    "### 5.3 will be done once all other questions have been answered as it runs into a memory error"
   ]
  },
  {
   "cell_type": "markdown",
   "id": "9a568ff6-86b1-4741-bf37-e6551566ffb3",
   "metadata": {},
   "source": [
    "### 5.4 Number of dependants"
   ]
  },
  {
   "cell_type": "code",
   "execution_count": 99,
   "id": "0583f83b-4b67-41b5-854b-4a97f7cd6628",
   "metadata": {},
   "outputs": [],
   "source": [
    "# Divide data into customers with dependents and customers without dependents\n",
    "ords_prods_cust_merge.loc[ords_prods_cust_merge['n_dependants'] == 0, 'dependants_flag'] = 'No Dependants'\n",
    "ords_prods_cust_merge.loc[ords_prods_cust_merge['n_dependants'] > 0, 'dependants_flag'] = 'Has Dependants'"
   ]
  },
  {
   "cell_type": "code",
   "execution_count": 101,
   "id": "b3621a2c-4b2f-4c49-8658-e28bf13e61aa",
   "metadata": {},
   "outputs": [
    {
     "data": {
      "text/plain": [
       "dependants_flag\n",
       "Has Dependants    24307356\n",
       "No Dependants      8097503\n",
       "Name: count, dtype: int64"
      ]
     },
     "execution_count": 101,
     "metadata": {},
     "output_type": "execute_result"
    }
   ],
   "source": [
    "#Check data\n",
    "ords_prods_cust_merge['dependants_flag'].value_counts(dropna = False)"
   ]
  },
  {
   "cell_type": "code",
   "execution_count": 103,
   "id": "bae01588-15c9-4d72-9f21-d3b5f08969ee",
   "metadata": {},
   "outputs": [
    {
     "data": {
      "image/png": "[encoded data removed]",
      "text/plain": [
       "<Figure size 640x480 with 1 Axes>"
      ]
     },
     "metadata": {},
     "output_type": "display_data"
    }
   ],
   "source": [
    "# Number of dependent group profile visualization horizontal\n",
    "\n",
    "bar_dependants = ords_prods_cust_merge['dependants_flag'].value_counts().sort_values().plot.barh()"
   ]
  },
  {
   "cell_type": "code",
   "execution_count": 105,
   "id": "b440f44b-0352-4de9-8d55-a3b0675c2758",
   "metadata": {},
   "outputs": [],
   "source": [
    "# Export Bar Chart\n",
    "\n",
    "bar_dependants.figure.savefig(os.path.join(path, '04 Analysis','Visualizations', 'bar_dependants_group.png'))"
   ]
  },
  {
   "cell_type": "code",
   "execution_count": 107,
   "id": "e2f69edd-b141-4e83-8441-9b587d38c696",
   "metadata": {},
   "outputs": [
    {
     "data": {
      "image/png": "[encoded data removed]",
      "text/plain": [
       "<Figure size 600x600 with 1 Axes>"
      ]
     },
     "metadata": {},
     "output_type": "display_data"
    }
   ],
   "source": [
    "#Creating pie chart for the dependant groups:\n",
    "\n",
    "dependants_flag_counts = ords_prods_cust_merge['dependants_flag'].value_counts()\n",
    "\n",
    "plt.figure(figsize=(6, 6))\n",
    "plt.pie(dependants_flag_counts, \n",
    "        labels = dependants_flag_counts.index, \n",
    "        autopct='%.2f%%', \n",
    "        colors = ['blue', 'yellow'],\n",
    "        wedgeprops = {'edgecolor' : 'black'})\n",
    "plt.title('Instacart Customers with Dependents vs without Dependants')\n",
    "plt.savefig(os.path.join(path, '04 Analysis', 'Visualizations', 'customers_dependants_pie.png'), bbox_inches = 'tight')\n",
    "plt.show()"
   ]
  },
  {
   "cell_type": "markdown",
   "id": "8e0cf410-4adc-487e-87dc-eb55018fa620",
   "metadata": {},
   "source": [
    "#### Checked visualizations folder to see if image was saved."
   ]
  },
  {
   "cell_type": "markdown",
   "id": "6bd3c5c5-4691-420a-8aca-a3d427c9731f",
   "metadata": {},
   "source": [
    "#### Orders_days_of_week bar chart was created in the previous exercise"
   ]
  },
  {
   "cell_type": "markdown",
   "id": "70d202ee-cf98-4034-8136-a5bc9f7e3d63",
   "metadata": {},
   "source": [
    "## Profiles with Departments"
   ]
  },
  {
   "cell_type": "code",
   "execution_count": 119,
   "id": "3c7f192c-eeca-40b8-b38e-6287c07dd31f",
   "metadata": {},
   "outputs": [],
   "source": [
    "# Importing department wrangled dataframe\n",
    "df_dept=pd.read_csv(os.path.join(path,'02 Data','Prepared Data','departments_wrangled.csv'))"
   ]
  },
  {
   "cell_type": "code",
   "execution_count": 121,
   "id": "c17e8b83-0c36-4c98-a94e-38fa42c9e7b3",
   "metadata": {},
   "outputs": [
    {
     "data": {
      "text/html": [
       "<div>\n",
       "<style scoped>\n",
       "    .dataframe tbody tr th:only-of-type {\n",
       "        vertical-align: middle;\n",
       "    }\n",
       "\n",
       "    .dataframe tbody tr th {\n",
       "        vertical-align: top;\n",
       "    }\n",
       "\n",
       "    .dataframe thead th {\n",
       "        text-align: right;\n",
       "    }\n",
       "</style>\n",
       "<table border=\"1\" class=\"dataframe\">\n",
       "  <thead>\n",
       "    <tr style=\"text-align: right;\">\n",
       "      <th></th>\n",
       "      <th>Unnamed: 0</th>\n",
       "      <th>department</th>\n",
       "    </tr>\n",
       "  </thead>\n",
       "  <tbody>\n",
       "    <tr>\n",
       "      <th>0</th>\n",
       "      <td>1</td>\n",
       "      <td>frozen</td>\n",
       "    </tr>\n",
       "    <tr>\n",
       "      <th>1</th>\n",
       "      <td>2</td>\n",
       "      <td>other</td>\n",
       "    </tr>\n",
       "    <tr>\n",
       "      <th>2</th>\n",
       "      <td>3</td>\n",
       "      <td>bakery</td>\n",
       "    </tr>\n",
       "    <tr>\n",
       "      <th>3</th>\n",
       "      <td>4</td>\n",
       "      <td>produce</td>\n",
       "    </tr>\n",
       "    <tr>\n",
       "      <th>4</th>\n",
       "      <td>5</td>\n",
       "      <td>alcohol</td>\n",
       "    </tr>\n",
       "    <tr>\n",
       "      <th>5</th>\n",
       "      <td>6</td>\n",
       "      <td>international</td>\n",
       "    </tr>\n",
       "    <tr>\n",
       "      <th>6</th>\n",
       "      <td>7</td>\n",
       "      <td>beverages</td>\n",
       "    </tr>\n",
       "    <tr>\n",
       "      <th>7</th>\n",
       "      <td>8</td>\n",
       "      <td>pets</td>\n",
       "    </tr>\n",
       "    <tr>\n",
       "      <th>8</th>\n",
       "      <td>9</td>\n",
       "      <td>dry goods pasta</td>\n",
       "    </tr>\n",
       "    <tr>\n",
       "      <th>9</th>\n",
       "      <td>10</td>\n",
       "      <td>bulk</td>\n",
       "    </tr>\n",
       "    <tr>\n",
       "      <th>10</th>\n",
       "      <td>11</td>\n",
       "      <td>personal care</td>\n",
       "    </tr>\n",
       "    <tr>\n",
       "      <th>11</th>\n",
       "      <td>12</td>\n",
       "      <td>meat seafood</td>\n",
       "    </tr>\n",
       "    <tr>\n",
       "      <th>12</th>\n",
       "      <td>13</td>\n",
       "      <td>pantry</td>\n",
       "    </tr>\n",
       "    <tr>\n",
       "      <th>13</th>\n",
       "      <td>14</td>\n",
       "      <td>breakfast</td>\n",
       "    </tr>\n",
       "    <tr>\n",
       "      <th>14</th>\n",
       "      <td>15</td>\n",
       "      <td>canned goods</td>\n",
       "    </tr>\n",
       "    <tr>\n",
       "      <th>15</th>\n",
       "      <td>16</td>\n",
       "      <td>dairy eggs</td>\n",
       "    </tr>\n",
       "    <tr>\n",
       "      <th>16</th>\n",
       "      <td>17</td>\n",
       "      <td>household</td>\n",
       "    </tr>\n",
       "    <tr>\n",
       "      <th>17</th>\n",
       "      <td>18</td>\n",
       "      <td>babies</td>\n",
       "    </tr>\n",
       "    <tr>\n",
       "      <th>18</th>\n",
       "      <td>19</td>\n",
       "      <td>snacks</td>\n",
       "    </tr>\n",
       "    <tr>\n",
       "      <th>19</th>\n",
       "      <td>20</td>\n",
       "      <td>deli</td>\n",
       "    </tr>\n",
       "    <tr>\n",
       "      <th>20</th>\n",
       "      <td>21</td>\n",
       "      <td>missing</td>\n",
       "    </tr>\n",
       "  </tbody>\n",
       "</table>\n",
       "</div>"
      ],
      "text/plain": [
       "    Unnamed: 0       department\n",
       "0            1           frozen\n",
       "1            2            other\n",
       "2            3           bakery\n",
       "3            4          produce\n",
       "4            5          alcohol\n",
       "5            6    international\n",
       "6            7        beverages\n",
       "7            8             pets\n",
       "8            9  dry goods pasta\n",
       "9           10             bulk\n",
       "10          11    personal care\n",
       "11          12     meat seafood\n",
       "12          13           pantry\n",
       "13          14        breakfast\n",
       "14          15     canned goods\n",
       "15          16       dairy eggs\n",
       "16          17        household\n",
       "17          18           babies\n",
       "18          19           snacks\n",
       "19          20             deli\n",
       "20          21          missing"
      ]
     },
     "execution_count": 121,
     "metadata": {},
     "output_type": "execute_result"
    }
   ],
   "source": [
    "df_dept"
   ]
  },
  {
   "cell_type": "code",
   "execution_count": 123,
   "id": "f0481a01-9bd0-4265-b643-af1fc7ed6fbf",
   "metadata": {},
   "outputs": [],
   "source": [
    "# Renaming unnamed column\n",
    "df_dept.rename(columns={'Unnamed: 0':'department_id'},inplace=True)"
   ]
  },
  {
   "cell_type": "code",
   "execution_count": 125,
   "id": "151f1e6c-3b3c-40de-be63-71390c55ac42",
   "metadata": {},
   "outputs": [
    {
     "data": {
      "text/html": [
       "<div>\n",
       "<style scoped>\n",
       "    .dataframe tbody tr th:only-of-type {\n",
       "        vertical-align: middle;\n",
       "    }\n",
       "\n",
       "    .dataframe tbody tr th {\n",
       "        vertical-align: top;\n",
       "    }\n",
       "\n",
       "    .dataframe thead th {\n",
       "        text-align: right;\n",
       "    }\n",
       "</style>\n",
       "<table border=\"1\" class=\"dataframe\">\n",
       "  <thead>\n",
       "    <tr style=\"text-align: right;\">\n",
       "      <th></th>\n",
       "      <th>department_id</th>\n",
       "      <th>department</th>\n",
       "    </tr>\n",
       "  </thead>\n",
       "  <tbody>\n",
       "    <tr>\n",
       "      <th>0</th>\n",
       "      <td>1</td>\n",
       "      <td>frozen</td>\n",
       "    </tr>\n",
       "    <tr>\n",
       "      <th>1</th>\n",
       "      <td>2</td>\n",
       "      <td>other</td>\n",
       "    </tr>\n",
       "    <tr>\n",
       "      <th>2</th>\n",
       "      <td>3</td>\n",
       "      <td>bakery</td>\n",
       "    </tr>\n",
       "    <tr>\n",
       "      <th>3</th>\n",
       "      <td>4</td>\n",
       "      <td>produce</td>\n",
       "    </tr>\n",
       "    <tr>\n",
       "      <th>4</th>\n",
       "      <td>5</td>\n",
       "      <td>alcohol</td>\n",
       "    </tr>\n",
       "    <tr>\n",
       "      <th>5</th>\n",
       "      <td>6</td>\n",
       "      <td>international</td>\n",
       "    </tr>\n",
       "    <tr>\n",
       "      <th>6</th>\n",
       "      <td>7</td>\n",
       "      <td>beverages</td>\n",
       "    </tr>\n",
       "    <tr>\n",
       "      <th>7</th>\n",
       "      <td>8</td>\n",
       "      <td>pets</td>\n",
       "    </tr>\n",
       "    <tr>\n",
       "      <th>8</th>\n",
       "      <td>9</td>\n",
       "      <td>dry goods pasta</td>\n",
       "    </tr>\n",
       "    <tr>\n",
       "      <th>9</th>\n",
       "      <td>10</td>\n",
       "      <td>bulk</td>\n",
       "    </tr>\n",
       "    <tr>\n",
       "      <th>10</th>\n",
       "      <td>11</td>\n",
       "      <td>personal care</td>\n",
       "    </tr>\n",
       "    <tr>\n",
       "      <th>11</th>\n",
       "      <td>12</td>\n",
       "      <td>meat seafood</td>\n",
       "    </tr>\n",
       "    <tr>\n",
       "      <th>12</th>\n",
       "      <td>13</td>\n",
       "      <td>pantry</td>\n",
       "    </tr>\n",
       "    <tr>\n",
       "      <th>13</th>\n",
       "      <td>14</td>\n",
       "      <td>breakfast</td>\n",
       "    </tr>\n",
       "    <tr>\n",
       "      <th>14</th>\n",
       "      <td>15</td>\n",
       "      <td>canned goods</td>\n",
       "    </tr>\n",
       "    <tr>\n",
       "      <th>15</th>\n",
       "      <td>16</td>\n",
       "      <td>dairy eggs</td>\n",
       "    </tr>\n",
       "    <tr>\n",
       "      <th>16</th>\n",
       "      <td>17</td>\n",
       "      <td>household</td>\n",
       "    </tr>\n",
       "    <tr>\n",
       "      <th>17</th>\n",
       "      <td>18</td>\n",
       "      <td>babies</td>\n",
       "    </tr>\n",
       "    <tr>\n",
       "      <th>18</th>\n",
       "      <td>19</td>\n",
       "      <td>snacks</td>\n",
       "    </tr>\n",
       "    <tr>\n",
       "      <th>19</th>\n",
       "      <td>20</td>\n",
       "      <td>deli</td>\n",
       "    </tr>\n",
       "    <tr>\n",
       "      <th>20</th>\n",
       "      <td>21</td>\n",
       "      <td>missing</td>\n",
       "    </tr>\n",
       "  </tbody>\n",
       "</table>\n",
       "</div>"
      ],
      "text/plain": [
       "    department_id       department\n",
       "0               1           frozen\n",
       "1               2            other\n",
       "2               3           bakery\n",
       "3               4          produce\n",
       "4               5          alcohol\n",
       "5               6    international\n",
       "6               7        beverages\n",
       "7               8             pets\n",
       "8               9  dry goods pasta\n",
       "9              10             bulk\n",
       "10             11    personal care\n",
       "11             12     meat seafood\n",
       "12             13           pantry\n",
       "13             14        breakfast\n",
       "14             15     canned goods\n",
       "15             16       dairy eggs\n",
       "16             17        household\n",
       "17             18           babies\n",
       "18             19           snacks\n",
       "19             20             deli\n",
       "20             21          missing"
      ]
     },
     "execution_count": 125,
     "metadata": {},
     "output_type": "execute_result"
    }
   ],
   "source": [
    "# Checking the new df:\n",
    "df_dept"
   ]
  },
  {
   "cell_type": "code",
   "execution_count": 127,
   "id": "859a5cb2-c292-4f21-a68a-6ac7230fbb21",
   "metadata": {},
   "outputs": [
    {
     "data": {
      "text/plain": [
       "department_id     int64\n",
       "department       object\n",
       "dtype: object"
      ]
     },
     "execution_count": 127,
     "metadata": {},
     "output_type": "execute_result"
    }
   ],
   "source": [
    "df_dept.dtypes"
   ]
  },
  {
   "cell_type": "code",
   "execution_count": 129,
   "id": "41be09c9-98f4-40bc-81ff-7f10f7f265cf",
   "metadata": {},
   "outputs": [],
   "source": [
    "# Changing department_id from int64 to int8 to match with the ords_prods_cust for merge\n",
    "df_dept['department_id']=df_dept['department_id'].astype('int8')"
   ]
  },
  {
   "cell_type": "code",
   "execution_count": 131,
   "id": "2c9db5a0-319d-4492-836f-60a5dfec1c89",
   "metadata": {},
   "outputs": [],
   "source": [
    "# Dropping original merge column to merge department later\n",
    "ords_prods_cust_merge=ords_prods_cust_merge.drop(columns=['_merge'])"
   ]
  },
  {
   "cell_type": "markdown",
   "id": "d44f9e5f-0081-4556-a0e9-b5975ad18c2b",
   "metadata": {},
   "source": [
    "## Need to Create a new script to try again\n",
    "Export the latest files"
   ]
  },
  {
   "cell_type": "code",
   "execution_count": 140,
   "id": "3d82ff38-8de5-43cf-9ce1-c457cbbb4d10",
   "metadata": {},
   "outputs": [],
   "source": [
    "df_dept.to_pickle(os.path.join(path, '02 Data','Prepared Data', 'dept_new.pkl'))"
   ]
  },
  {
   "cell_type": "code",
   "execution_count": 142,
   "id": "d69cca90-9c70-4e58-b90b-c245e4fd551d",
   "metadata": {},
   "outputs": [],
   "source": [
    "ords_prods_cust_merge.to_pickle(os.path.join(path, '02 Data','Prepared Data', 'ords_prods_cust_merge.pkl'))"
   ]
  },
  {
   "cell_type": "markdown",
   "id": "03b479dd-9cf2-4455-99f1-c599f052018b",
   "metadata": {},
   "source": [
    "## Closing script and running a new one"
   ]
  },
  {
   "cell_type": "code",
   "execution_count": null,
   "id": "d5409501-6db4-45cc-8a2c-134ce94e1a09",
   "metadata": {},
   "outputs": [],
   "source": []
  }
 ],
 "metadata": {
  "kernelspec": {
   "display_name": "Python 3 (ipykernel)",
   "language": "python",
   "name": "python3"
  },
  "language_info": {
   "codemirror_mode": {
    "name": "ipython",
    "version": 3
   },
   "file_extension": ".py",
   "mimetype": "text/x-python",
   "name": "python",
   "nbconvert_exporter": "python",
   "pygments_lexer": "ipython3",
   "version": "3.12.4"
  }
 },
 "nbformat": 4,
 "nbformat_minor": 5
}
