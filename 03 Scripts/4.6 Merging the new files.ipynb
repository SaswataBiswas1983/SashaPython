{
 "cells": [
  {
   "cell_type": "markdown",
   "id": "1a15f42b-a3c7-4369-9ac5-020906b89339",
   "metadata": {},
   "source": [
    "# Merging the new files\n",
    "## first a few steps taken:\n",
    "### 01. Close all applications not required\n",
    "### 02. Close all running notebooks\n",
    "### 03. Only keep this notebook open"
   ]
  },
  {
   "cell_type": "code",
   "execution_count": 2,
   "id": "6a424591-9967-4c5d-b20a-36810a40fb15",
   "metadata": {},
   "outputs": [],
   "source": [
    "#import Libraries as usual:\n",
    "import pandas as pd\n",
    "import numpy as np\n",
    "import os"
   ]
  },
  {
   "cell_type": "code",
   "execution_count": 4,
   "id": "3d09d57d-f264-43ad-a74b-26d976c85860",
   "metadata": {},
   "outputs": [],
   "source": [
    "# Create a File Path\n",
    "path = r'C:\\Users\\Lenovo\\Desktop\\Career Foundry\\28-06-2024 Instacart Basket Analysis - Saswata Biswas'"
   ]
  },
  {
   "cell_type": "code",
   "execution_count": 6,
   "id": "38a7836b-0123-4f92-9145-4cdf1de1ba26",
   "metadata": {},
   "outputs": [],
   "source": [
    "#create a Vars List:\n",
    "vars_list = ['product_id', 'product_name', 'aisle_id', 'department_id', 'prices']"
   ]
  },
  {
   "cell_type": "code",
   "execution_count": 8,
   "id": "e6881fd7-728c-45be-ad08-7006b2253817",
   "metadata": {},
   "outputs": [],
   "source": [
    "#import the products file:\n",
    "df_prods = pd.read_csv(os.path.join(path, '02 Data', 'Prepared Data', 'product_checked.csv'), usecols = vars_list)"
   ]
  },
  {
   "cell_type": "code",
   "execution_count": 10,
   "id": "7e1d70a2-6fd0-4653-8021-94a166d5b1af",
   "metadata": {},
   "outputs": [],
   "source": [
    "#import the new orders_products_combined file:\n",
    "df_orders_products_combined = pd.read_pickle(os.path.join(path, '02 Data', 'Prepared Data', 'order_product_combined.pkl'))"
   ]
  },
  {
   "cell_type": "markdown",
   "id": "e11fe15b-4f1e-46d8-a8a3-62ff427f500f",
   "metadata": {},
   "source": [
    "## Check data types"
   ]
  },
  {
   "cell_type": "code",
   "execution_count": 13,
   "id": "cee06ae2-5a59-47ec-a5c7-81331d4196e9",
   "metadata": {},
   "outputs": [
    {
     "data": {
      "text/plain": [
       "product_id         int64\n",
       "product_name      object\n",
       "aisle_id           int64\n",
       "department_id      int64\n",
       "prices           float64\n",
       "dtype: object"
      ]
     },
     "execution_count": 13,
     "metadata": {},
     "output_type": "execute_result"
    }
   ],
   "source": [
    "df_prods.dtypes"
   ]
  },
  {
   "cell_type": "code",
   "execution_count": 15,
   "id": "934322fe-4adc-4ff6-bec0-3435bddaf99c",
   "metadata": {},
   "outputs": [
    {
     "data": {
      "text/plain": [
       "order_id                    int32\n",
       "user_id                     int32\n",
       "order_number                 int8\n",
       "orders_days_of_week          int8\n",
       "order_hour_of_day            int8\n",
       "days_since_prior_order    float16\n",
       "product_id                  int32\n",
       "add_to_cart_order           int16\n",
       "reordered                    int8\n",
       "dtype: object"
      ]
     },
     "execution_count": 15,
     "metadata": {},
     "output_type": "execute_result"
    }
   ],
   "source": [
    "df_orders_products_combined.dtypes"
   ]
  },
  {
   "cell_type": "markdown",
   "id": "24b4d8a8-96cd-44c6-8cf1-21852a6b23c2",
   "metadata": {},
   "source": [
    "## Merging the 2 files (rest all apps closed)"
   ]
  },
  {
   "cell_type": "code",
   "execution_count": 18,
   "id": "bcb5a706-0146-41b8-bb8c-184ab721609e",
   "metadata": {},
   "outputs": [],
   "source": [
    "ords_prods_merge_df = df_orders_products_combined.merge(df_prods, on='product_id', indicator=True)"
   ]
  },
  {
   "cell_type": "markdown",
   "id": "9e2b095d-8a5d-4cb7-9177-ca8b399d4de5",
   "metadata": {},
   "source": [
    "## Checking the details of the new file"
   ]
  },
  {
   "cell_type": "code",
   "execution_count": 21,
   "id": "39f6b89c-d6fb-4d06-bbae-32d7d6f098fb",
   "metadata": {},
   "outputs": [
    {
     "data": {
      "text/html": [
       "<div>\n",
       "<style scoped>\n",
       "    .dataframe tbody tr th:only-of-type {\n",
       "        vertical-align: middle;\n",
       "    }\n",
       "\n",
       "    .dataframe tbody tr th {\n",
       "        vertical-align: top;\n",
       "    }\n",
       "\n",
       "    .dataframe thead th {\n",
       "        text-align: right;\n",
       "    }\n",
       "</style>\n",
       "<table border=\"1\" class=\"dataframe\">\n",
       "  <thead>\n",
       "    <tr style=\"text-align: right;\">\n",
       "      <th></th>\n",
       "      <th>order_id</th>\n",
       "      <th>user_id</th>\n",
       "      <th>order_number</th>\n",
       "      <th>orders_days_of_week</th>\n",
       "      <th>order_hour_of_day</th>\n",
       "      <th>days_since_prior_order</th>\n",
       "      <th>product_id</th>\n",
       "      <th>add_to_cart_order</th>\n",
       "      <th>reordered</th>\n",
       "      <th>product_name</th>\n",
       "      <th>aisle_id</th>\n",
       "      <th>department_id</th>\n",
       "      <th>prices</th>\n",
       "      <th>_merge</th>\n",
       "    </tr>\n",
       "  </thead>\n",
       "  <tbody>\n",
       "    <tr>\n",
       "      <th>0</th>\n",
       "      <td>2539329</td>\n",
       "      <td>1</td>\n",
       "      <td>1</td>\n",
       "      <td>2</td>\n",
       "      <td>8</td>\n",
       "      <td>0.0</td>\n",
       "      <td>196</td>\n",
       "      <td>1</td>\n",
       "      <td>0</td>\n",
       "      <td>Soda</td>\n",
       "      <td>77</td>\n",
       "      <td>7</td>\n",
       "      <td>9.0</td>\n",
       "      <td>both</td>\n",
       "    </tr>\n",
       "    <tr>\n",
       "      <th>1</th>\n",
       "      <td>2539329</td>\n",
       "      <td>1</td>\n",
       "      <td>1</td>\n",
       "      <td>2</td>\n",
       "      <td>8</td>\n",
       "      <td>0.0</td>\n",
       "      <td>14084</td>\n",
       "      <td>2</td>\n",
       "      <td>0</td>\n",
       "      <td>Organic Unsweetened Vanilla Almond Milk</td>\n",
       "      <td>91</td>\n",
       "      <td>16</td>\n",
       "      <td>12.5</td>\n",
       "      <td>both</td>\n",
       "    </tr>\n",
       "    <tr>\n",
       "      <th>2</th>\n",
       "      <td>2539329</td>\n",
       "      <td>1</td>\n",
       "      <td>1</td>\n",
       "      <td>2</td>\n",
       "      <td>8</td>\n",
       "      <td>0.0</td>\n",
       "      <td>12427</td>\n",
       "      <td>3</td>\n",
       "      <td>0</td>\n",
       "      <td>Original Beef Jerky</td>\n",
       "      <td>23</td>\n",
       "      <td>19</td>\n",
       "      <td>4.4</td>\n",
       "      <td>both</td>\n",
       "    </tr>\n",
       "    <tr>\n",
       "      <th>3</th>\n",
       "      <td>2539329</td>\n",
       "      <td>1</td>\n",
       "      <td>1</td>\n",
       "      <td>2</td>\n",
       "      <td>8</td>\n",
       "      <td>0.0</td>\n",
       "      <td>26088</td>\n",
       "      <td>4</td>\n",
       "      <td>0</td>\n",
       "      <td>Aged White Cheddar Popcorn</td>\n",
       "      <td>23</td>\n",
       "      <td>19</td>\n",
       "      <td>4.7</td>\n",
       "      <td>both</td>\n",
       "    </tr>\n",
       "    <tr>\n",
       "      <th>4</th>\n",
       "      <td>2539329</td>\n",
       "      <td>1</td>\n",
       "      <td>1</td>\n",
       "      <td>2</td>\n",
       "      <td>8</td>\n",
       "      <td>0.0</td>\n",
       "      <td>26405</td>\n",
       "      <td>5</td>\n",
       "      <td>0</td>\n",
       "      <td>XL Pick-A-Size Paper Towel Rolls</td>\n",
       "      <td>54</td>\n",
       "      <td>17</td>\n",
       "      <td>1.0</td>\n",
       "      <td>both</td>\n",
       "    </tr>\n",
       "  </tbody>\n",
       "</table>\n",
       "</div>"
      ],
      "text/plain": [
       "   order_id  user_id  order_number  orders_days_of_week  order_hour_of_day  \\\n",
       "0   2539329        1             1                    2                  8   \n",
       "1   2539329        1             1                    2                  8   \n",
       "2   2539329        1             1                    2                  8   \n",
       "3   2539329        1             1                    2                  8   \n",
       "4   2539329        1             1                    2                  8   \n",
       "\n",
       "   days_since_prior_order  product_id  add_to_cart_order  reordered  \\\n",
       "0                     0.0         196                  1          0   \n",
       "1                     0.0       14084                  2          0   \n",
       "2                     0.0       12427                  3          0   \n",
       "3                     0.0       26088                  4          0   \n",
       "4                     0.0       26405                  5          0   \n",
       "\n",
       "                              product_name  aisle_id  department_id  prices  \\\n",
       "0                                     Soda        77              7     9.0   \n",
       "1  Organic Unsweetened Vanilla Almond Milk        91             16    12.5   \n",
       "2                      Original Beef Jerky        23             19     4.4   \n",
       "3               Aged White Cheddar Popcorn        23             19     4.7   \n",
       "4         XL Pick-A-Size Paper Towel Rolls        54             17     1.0   \n",
       "\n",
       "  _merge  \n",
       "0   both  \n",
       "1   both  \n",
       "2   both  \n",
       "3   both  \n",
       "4   both  "
      ]
     },
     "execution_count": 21,
     "metadata": {},
     "output_type": "execute_result"
    }
   ],
   "source": [
    "ords_prods_merge_df.head()"
   ]
  },
  {
   "cell_type": "code",
   "execution_count": 23,
   "id": "f98607c0-e7d7-4f01-811c-65975ad57ed9",
   "metadata": {},
   "outputs": [
    {
     "data": {
      "text/plain": [
       "order_id                     int32\n",
       "user_id                      int32\n",
       "order_number                  int8\n",
       "orders_days_of_week           int8\n",
       "order_hour_of_day             int8\n",
       "days_since_prior_order     float16\n",
       "product_id                   int32\n",
       "add_to_cart_order            int16\n",
       "reordered                     int8\n",
       "product_name                object\n",
       "aisle_id                     int64\n",
       "department_id                int64\n",
       "prices                     float64\n",
       "_merge                    category\n",
       "dtype: object"
      ]
     },
     "execution_count": 23,
     "metadata": {},
     "output_type": "execute_result"
    }
   ],
   "source": [
    "ords_prods_merge_df.dtypes"
   ]
  },
  {
   "cell_type": "code",
   "execution_count": 31,
   "id": "3c9e2519-adfc-4529-bf35-7f472dc230f6",
   "metadata": {},
   "outputs": [
    {
     "data": {
      "text/plain": [
       "_merge\n",
       "both          32404859\n",
       "left_only            0\n",
       "right_only           0\n",
       "Name: count, dtype: int64"
      ]
     },
     "execution_count": 31,
     "metadata": {},
     "output_type": "execute_result"
    }
   ],
   "source": [
    "ords_prods_merge_df['_merge'].value_counts()"
   ]
  },
  {
   "cell_type": "markdown",
   "id": "0e488ab0-a17a-46d6-8572-16a38078301c",
   "metadata": {},
   "source": [
    "## Exporting the merged file"
   ]
  },
  {
   "cell_type": "code",
   "execution_count": 36,
   "id": "b13f31d3-e371-42fc-9365-4117ffddd86c",
   "metadata": {},
   "outputs": [],
   "source": [
    "ords_prods_merge_df.to_pickle(os.path.join(path, '02 Data','Prepared Data', 'ords_prods_merge.pkl'))"
   ]
  },
  {
   "cell_type": "code",
   "execution_count": null,
   "id": "6856c3d1-d9d6-4d31-b4f1-631e1d65a2ab",
   "metadata": {},
   "outputs": [],
   "source": []
  }
 ],
 "metadata": {
  "kernelspec": {
   "display_name": "Python 3 (ipykernel)",
   "language": "python",
   "name": "python3"
  },
  "language_info": {
   "codemirror_mode": {
    "name": "ipython",
    "version": 3
   },
   "file_extension": ".py",
   "mimetype": "text/x-python",
   "name": "python",
   "nbconvert_exporter": "python",
   "pygments_lexer": "ipython3",
   "version": "3.12.4"
  }
 },
 "nbformat": 4,
 "nbformat_minor": 5
}
