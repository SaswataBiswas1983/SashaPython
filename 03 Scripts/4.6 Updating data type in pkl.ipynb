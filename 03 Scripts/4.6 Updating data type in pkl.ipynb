{
 "cells": [
  {
   "cell_type": "markdown",
   "id": "ce4a176a-f67d-4a1d-9629-33a354eb48e8",
   "metadata": {},
   "source": [
    "# First we update the data type in the Order_product_combined file and export"
   ]
  },
  {
   "cell_type": "code",
   "execution_count": 2,
   "id": "ad1de611-540d-4d23-aabb-4477ef6b29b5",
   "metadata": {},
   "outputs": [],
   "source": [
    "#import Libraries as usual:\n",
    "import pandas as pd\n",
    "import numpy as np\n",
    "import os"
   ]
  },
  {
   "cell_type": "code",
   "execution_count": 4,
   "id": "97e903b9-b51a-42d3-9b3b-719a33523fac",
   "metadata": {},
   "outputs": [],
   "source": [
    "#Create a path to use\n",
    "path = r'C:\\Users\\Lenovo\\Desktop\\Career Foundry\\28-06-2024 Instacart Basket Analysis - Saswata Biswas'"
   ]
  },
  {
   "cell_type": "code",
   "execution_count": 6,
   "id": "d9be01b1-7500-4adb-8494-eb3903e230d5",
   "metadata": {},
   "outputs": [],
   "source": [
    "#Importing the file\n",
    "df_orders_products_combined = pd.read_pickle(os.path.join(path, '02 Data', 'Prepared Data', 'orders_products_combined.pkl'))"
   ]
  },
  {
   "cell_type": "code",
   "execution_count": 8,
   "id": "4cf338df-8875-402e-88fe-95e23c363119",
   "metadata": {},
   "outputs": [],
   "source": [
    "#removing the _merge column from the order_product dataframe\n",
    "df_orders_products_combined = df_orders_products_combined.drop(columns=['_merge'])"
   ]
  },
  {
   "cell_type": "markdown",
   "id": "78b93e6d-44dc-4c9b-aaca-9c4d647b8c71",
   "metadata": {},
   "source": [
    "## Changing the necessary data types"
   ]
  },
  {
   "cell_type": "code",
   "execution_count": 13,
   "id": "9471077d-bdc0-4892-87f0-54de62db6a26",
   "metadata": {},
   "outputs": [],
   "source": [
    "df_orders_products_combined['order_id']= df_orders_products_combined['order_id'].astype('int32')"
   ]
  },
  {
   "cell_type": "code",
   "execution_count": 15,
   "id": "dfacad7e-d2ca-41fb-8ac2-829a6d7274d7",
   "metadata": {},
   "outputs": [],
   "source": [
    "df_orders_products_combined['user_id'] = df_orders_products_combined['user_id'].astype('int32')"
   ]
  },
  {
   "cell_type": "code",
   "execution_count": 17,
   "id": "83a12f22-ddb7-4704-8d52-4563cb101490",
   "metadata": {},
   "outputs": [],
   "source": [
    "df_orders_products_combined['order_number']=df_orders_products_combined['order_number'].astype('int8')"
   ]
  },
  {
   "cell_type": "code",
   "execution_count": 21,
   "id": "7e2982ec-332b-46d9-a387-af238b8fe16e",
   "metadata": {},
   "outputs": [],
   "source": [
    "df_orders_products_combined['orders_days_of_week']=df_orders_products_combined['orders_days_of_week'].astype('int8')"
   ]
  },
  {
   "cell_type": "code",
   "execution_count": 23,
   "id": "45dd7cd4-d99b-4409-81ac-f396b3c87dc1",
   "metadata": {},
   "outputs": [],
   "source": [
    "df_orders_products_combined['order_hour_of_day']=df_orders_products_combined['order_hour_of_day'].astype('int8')"
   ]
  },
  {
   "cell_type": "code",
   "execution_count": 25,
   "id": "c78667c0-130e-4490-89f3-fcbbdb604abe",
   "metadata": {},
   "outputs": [],
   "source": [
    "df_orders_products_combined['days_since_prior_order']= df_orders_products_combined['days_since_prior_order'].astype('float16')"
   ]
  },
  {
   "cell_type": "code",
   "execution_count": 29,
   "id": "384672c4-ac8d-416a-ba5b-d39f14e3f138",
   "metadata": {},
   "outputs": [],
   "source": [
    "df_orders_products_combined['product_id']= df_orders_products_combined['product_id'].astype('int32')"
   ]
  },
  {
   "cell_type": "code",
   "execution_count": 31,
   "id": "2309da54-e084-4f62-9ef9-007f45a304c4",
   "metadata": {},
   "outputs": [],
   "source": [
    "df_orders_products_combined['add_to_cart_order']= df_orders_products_combined['add_to_cart_order'].astype('int16')"
   ]
  },
  {
   "cell_type": "code",
   "execution_count": 33,
   "id": "e15c18d3-dd99-4874-a2ec-26e56d393ed6",
   "metadata": {},
   "outputs": [],
   "source": [
    "df_orders_products_combined['reordered']= df_orders_products_combined['reordered'].astype('int8')"
   ]
  },
  {
   "cell_type": "markdown",
   "id": "edb628cb-2798-46f5-a350-c00d72caa9eb",
   "metadata": {},
   "source": [
    "### Checking to see if the data types have changed"
   ]
  },
  {
   "cell_type": "code",
   "execution_count": 36,
   "id": "e6e25493-5a19-4f52-ba70-442758596160",
   "metadata": {},
   "outputs": [
    {
     "data": {
      "text/plain": [
       "order_id                    int32\n",
       "user_id                     int32\n",
       "order_number                 int8\n",
       "orders_days_of_week          int8\n",
       "order_hour_of_day            int8\n",
       "days_since_prior_order    float16\n",
       "product_id                  int32\n",
       "add_to_cart_order           int16\n",
       "reordered                    int8\n",
       "dtype: object"
      ]
     },
     "execution_count": 36,
     "metadata": {},
     "output_type": "execute_result"
    }
   ],
   "source": [
    "df_orders_products_combined.dtypes"
   ]
  },
  {
   "cell_type": "markdown",
   "id": "0574a7a6-5929-49f4-9d19-6e70978e2ce6",
   "metadata": {},
   "source": [
    "### Exporting the shorter format"
   ]
  },
  {
   "cell_type": "code",
   "execution_count": 39,
   "id": "14a6a952-81ac-4b3a-8fe2-ca8ad641db9c",
   "metadata": {},
   "outputs": [],
   "source": [
    "df_orders_products_combined.to_pickle(os.path.join(path, '02 Data','Prepared Data', 'order_product_combined.pkl'))"
   ]
  },
  {
   "cell_type": "markdown",
   "id": "eed3a95d-bee1-4e32-9d80-11198a7447a5",
   "metadata": {},
   "source": [
    "#### Do not forget to check whether correctly exported"
   ]
  },
  {
   "cell_type": "markdown",
   "id": "181e4dd4-6d20-469d-96f4-f9f67bb12166",
   "metadata": {},
   "source": [
    "##### Old file size: 2312226 kb\n",
    "##### New File Size: 633488 kb"
   ]
  },
  {
   "cell_type": "code",
   "execution_count": null,
   "id": "2553c2e1-dfd2-4666-86a1-32fa09beedf1",
   "metadata": {},
   "outputs": [],
   "source": []
  }
 ],
 "metadata": {
  "kernelspec": {
   "display_name": "Python 3 (ipykernel)",
   "language": "python",
   "name": "python3"
  },
  "language_info": {
   "codemirror_mode": {
    "name": "ipython",
    "version": 3
   },
   "file_extension": ".py",
   "mimetype": "text/x-python",
   "name": "python",
   "nbconvert_exporter": "python",
   "pygments_lexer": "ipython3",
   "version": "3.12.4"
  }
 },
 "nbformat": 4,
 "nbformat_minor": 5
}
