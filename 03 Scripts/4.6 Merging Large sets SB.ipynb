{
 "cells": [
  {
   "cell_type": "markdown",
   "id": "5d58f3d6-e5c4-4df0-a982-dc9aee434b9b",
   "metadata": {},
   "source": [
    "# Merging the datasets for 4.6"
   ]
  },
  {
   "cell_type": "code",
   "execution_count": 2,
   "id": "16961b8c-ff13-4c19-b711-e84a19001b43",
   "metadata": {},
   "outputs": [],
   "source": [
    "#Import all Libraries first:\n",
    "import pandas as pd\n",
    "import numpy as np\n",
    "import os"
   ]
  },
  {
   "cell_type": "code",
   "execution_count": 5,
   "id": "ec508738-f1ee-47e1-bba7-c3629d0e9f85",
   "metadata": {},
   "outputs": [],
   "source": [
    "# Creating a folder path\n",
    "path = r'C:\\Users\\Lenovo\\Desktop\\Career Foundry\\28-06-2024 Instacart Basket Analysis - Saswata Biswas'"
   ]
  },
  {
   "cell_type": "markdown",
   "id": "51ebdc6c-e5a8-4e42-89cf-4f9b11253719",
   "metadata": {},
   "source": [
    "## Importing the prior order dataframe"
   ]
  },
  {
   "cell_type": "code",
   "execution_count": 35,
   "id": "54c28e0b-3893-4eac-84b8-248da9c5531f",
   "metadata": {},
   "outputs": [],
   "source": [
    "df_ords_prior = pd.read_csv(os.path.join(path, '02 Data', 'Original Data', 'orders_products_prior.csv'), index_col = False)"
   ]
  },
  {
   "cell_type": "markdown",
   "id": "866eee27-ba2e-48fa-b2d5-8d1d6334b8ae",
   "metadata": {},
   "source": [
    "#### Creating a vars_list for Orders"
   ]
  },
  {
   "cell_type": "code",
   "execution_count": 41,
   "id": "4a9e7ea6-9da8-4697-af86-bbc6484ec9c0",
   "metadata": {},
   "outputs": [],
   "source": [
    "#vars list is the list of all the columns we want to import\n",
    "vars_list = ['order_id', 'user_id', 'order_number', 'orders_days_of_week', 'order_hour_of_day', 'days_since_prior_order']"
   ]
  },
  {
   "cell_type": "markdown",
   "id": "451cdc31-af5d-4a24-a25c-85768b160dd9",
   "metadata": {},
   "source": [
    "## Importing the latest order dataframe"
   ]
  },
  {
   "cell_type": "code",
   "execution_count": 48,
   "id": "de56c0ae-0620-4aa1-a882-ea1e0fe40bef",
   "metadata": {},
   "outputs": [],
   "source": [
    "#importing orders data using this list:\n",
    "df_ords = pd.read_csv(os.path.join(path, '02 Data', 'Prepared Data', 'orders_checked.csv'), usecols = vars_list)"
   ]
  },
  {
   "cell_type": "markdown",
   "id": "33699e98-d161-4785-8dce-6deaa1f8e667",
   "metadata": {},
   "source": [
    "### Checking the shape of both the dataframes"
   ]
  },
  {
   "cell_type": "code",
   "execution_count": 51,
   "id": "38935b7b-d0c2-457d-bd12-0f1a4061916e",
   "metadata": {},
   "outputs": [
    {
     "data": {
      "text/plain": [
       "(3421083, 6)"
      ]
     },
     "execution_count": 51,
     "metadata": {},
     "output_type": "execute_result"
    }
   ],
   "source": [
    "df_ords.shape"
   ]
  },
  {
   "cell_type": "code",
   "execution_count": 53,
   "id": "5b32ac36-1fd4-4475-90e1-25f6bf5ce7ae",
   "metadata": {},
   "outputs": [
    {
     "data": {
      "text/plain": [
       "(32434489, 4)"
      ]
     },
     "execution_count": 53,
     "metadata": {},
     "output_type": "execute_result"
    }
   ],
   "source": [
    "df_ords_prior.shape"
   ]
  },
  {
   "cell_type": "markdown",
   "id": "4db6cacc-6aac-4d5f-953e-5f687f17aefd",
   "metadata": {},
   "source": [
    "### Checking heads of both the dataframes to look for common column:"
   ]
  },
  {
   "cell_type": "code",
   "execution_count": 56,
   "id": "4f013078-12e8-4072-aa43-d98822c306eb",
   "metadata": {},
   "outputs": [
    {
     "data": {
      "text/html": [
       "<div>\n",
       "<style scoped>\n",
       "    .dataframe tbody tr th:only-of-type {\n",
       "        vertical-align: middle;\n",
       "    }\n",
       "\n",
       "    .dataframe tbody tr th {\n",
       "        vertical-align: top;\n",
       "    }\n",
       "\n",
       "    .dataframe thead th {\n",
       "        text-align: right;\n",
       "    }\n",
       "</style>\n",
       "<table border=\"1\" class=\"dataframe\">\n",
       "  <thead>\n",
       "    <tr style=\"text-align: right;\">\n",
       "      <th></th>\n",
       "      <th>order_id</th>\n",
       "      <th>user_id</th>\n",
       "      <th>order_number</th>\n",
       "      <th>orders_days_of_week</th>\n",
       "      <th>order_hour_of_day</th>\n",
       "      <th>days_since_prior_order</th>\n",
       "    </tr>\n",
       "  </thead>\n",
       "  <tbody>\n",
       "    <tr>\n",
       "      <th>0</th>\n",
       "      <td>2539329</td>\n",
       "      <td>1</td>\n",
       "      <td>1</td>\n",
       "      <td>2</td>\n",
       "      <td>8</td>\n",
       "      <td>0.0</td>\n",
       "    </tr>\n",
       "    <tr>\n",
       "      <th>1</th>\n",
       "      <td>2398795</td>\n",
       "      <td>1</td>\n",
       "      <td>2</td>\n",
       "      <td>3</td>\n",
       "      <td>7</td>\n",
       "      <td>15.0</td>\n",
       "    </tr>\n",
       "    <tr>\n",
       "      <th>2</th>\n",
       "      <td>473747</td>\n",
       "      <td>1</td>\n",
       "      <td>3</td>\n",
       "      <td>3</td>\n",
       "      <td>12</td>\n",
       "      <td>21.0</td>\n",
       "    </tr>\n",
       "    <tr>\n",
       "      <th>3</th>\n",
       "      <td>2254736</td>\n",
       "      <td>1</td>\n",
       "      <td>4</td>\n",
       "      <td>4</td>\n",
       "      <td>7</td>\n",
       "      <td>29.0</td>\n",
       "    </tr>\n",
       "    <tr>\n",
       "      <th>4</th>\n",
       "      <td>431534</td>\n",
       "      <td>1</td>\n",
       "      <td>5</td>\n",
       "      <td>4</td>\n",
       "      <td>15</td>\n",
       "      <td>28.0</td>\n",
       "    </tr>\n",
       "  </tbody>\n",
       "</table>\n",
       "</div>"
      ],
      "text/plain": [
       "   order_id  user_id  order_number  orders_days_of_week  order_hour_of_day  \\\n",
       "0   2539329        1             1                    2                  8   \n",
       "1   2398795        1             2                    3                  7   \n",
       "2    473747        1             3                    3                 12   \n",
       "3   2254736        1             4                    4                  7   \n",
       "4    431534        1             5                    4                 15   \n",
       "\n",
       "   days_since_prior_order  \n",
       "0                     0.0  \n",
       "1                    15.0  \n",
       "2                    21.0  \n",
       "3                    29.0  \n",
       "4                    28.0  "
      ]
     },
     "execution_count": 56,
     "metadata": {},
     "output_type": "execute_result"
    }
   ],
   "source": [
    "df_ords.head()"
   ]
  },
  {
   "cell_type": "code",
   "execution_count": 58,
   "id": "dca5c8fa-05a1-4e05-adec-ec18d3059213",
   "metadata": {},
   "outputs": [
    {
     "data": {
      "text/html": [
       "<div>\n",
       "<style scoped>\n",
       "    .dataframe tbody tr th:only-of-type {\n",
       "        vertical-align: middle;\n",
       "    }\n",
       "\n",
       "    .dataframe tbody tr th {\n",
       "        vertical-align: top;\n",
       "    }\n",
       "\n",
       "    .dataframe thead th {\n",
       "        text-align: right;\n",
       "    }\n",
       "</style>\n",
       "<table border=\"1\" class=\"dataframe\">\n",
       "  <thead>\n",
       "    <tr style=\"text-align: right;\">\n",
       "      <th></th>\n",
       "      <th>order_id</th>\n",
       "      <th>product_id</th>\n",
       "      <th>add_to_cart_order</th>\n",
       "      <th>reordered</th>\n",
       "    </tr>\n",
       "  </thead>\n",
       "  <tbody>\n",
       "    <tr>\n",
       "      <th>0</th>\n",
       "      <td>2</td>\n",
       "      <td>33120</td>\n",
       "      <td>1</td>\n",
       "      <td>1</td>\n",
       "    </tr>\n",
       "    <tr>\n",
       "      <th>1</th>\n",
       "      <td>2</td>\n",
       "      <td>28985</td>\n",
       "      <td>2</td>\n",
       "      <td>1</td>\n",
       "    </tr>\n",
       "    <tr>\n",
       "      <th>2</th>\n",
       "      <td>2</td>\n",
       "      <td>9327</td>\n",
       "      <td>3</td>\n",
       "      <td>0</td>\n",
       "    </tr>\n",
       "    <tr>\n",
       "      <th>3</th>\n",
       "      <td>2</td>\n",
       "      <td>45918</td>\n",
       "      <td>4</td>\n",
       "      <td>1</td>\n",
       "    </tr>\n",
       "    <tr>\n",
       "      <th>4</th>\n",
       "      <td>2</td>\n",
       "      <td>30035</td>\n",
       "      <td>5</td>\n",
       "      <td>0</td>\n",
       "    </tr>\n",
       "  </tbody>\n",
       "</table>\n",
       "</div>"
      ],
      "text/plain": [
       "   order_id  product_id  add_to_cart_order  reordered\n",
       "0         2       33120                  1          1\n",
       "1         2       28985                  2          1\n",
       "2         2        9327                  3          0\n",
       "3         2       45918                  4          1\n",
       "4         2       30035                  5          0"
      ]
     },
     "execution_count": 58,
     "metadata": {},
     "output_type": "execute_result"
    }
   ],
   "source": [
    "df_ords_prior.head()"
   ]
  },
  {
   "cell_type": "markdown",
   "id": "c900d8ab-e4e1-464a-b677-77bf570a865d",
   "metadata": {},
   "source": [
    "## Merging the dataframes"
   ]
  },
  {
   "cell_type": "code",
   "execution_count": 61,
   "id": "a59eb15d-4a65-4aa6-bdbd-e88c69567aa1",
   "metadata": {},
   "outputs": [],
   "source": [
    "df_merged_large = df_ords.merge(df_ords_prior, on = 'order_id', indicator = True)"
   ]
  },
  {
   "cell_type": "code",
   "execution_count": 63,
   "id": "db71b8e0-46c7-47ae-8cea-c6acfb2c7a37",
   "metadata": {},
   "outputs": [
    {
     "data": {
      "text/html": [
       "<div>\n",
       "<style scoped>\n",
       "    .dataframe tbody tr th:only-of-type {\n",
       "        vertical-align: middle;\n",
       "    }\n",
       "\n",
       "    .dataframe tbody tr th {\n",
       "        vertical-align: top;\n",
       "    }\n",
       "\n",
       "    .dataframe thead th {\n",
       "        text-align: right;\n",
       "    }\n",
       "</style>\n",
       "<table border=\"1\" class=\"dataframe\">\n",
       "  <thead>\n",
       "    <tr style=\"text-align: right;\">\n",
       "      <th></th>\n",
       "      <th>order_id</th>\n",
       "      <th>user_id</th>\n",
       "      <th>order_number</th>\n",
       "      <th>orders_days_of_week</th>\n",
       "      <th>order_hour_of_day</th>\n",
       "      <th>days_since_prior_order</th>\n",
       "      <th>product_id</th>\n",
       "      <th>add_to_cart_order</th>\n",
       "      <th>reordered</th>\n",
       "      <th>_merge</th>\n",
       "    </tr>\n",
       "  </thead>\n",
       "  <tbody>\n",
       "    <tr>\n",
       "      <th>0</th>\n",
       "      <td>2539329</td>\n",
       "      <td>1</td>\n",
       "      <td>1</td>\n",
       "      <td>2</td>\n",
       "      <td>8</td>\n",
       "      <td>0.0</td>\n",
       "      <td>196</td>\n",
       "      <td>1</td>\n",
       "      <td>0</td>\n",
       "      <td>both</td>\n",
       "    </tr>\n",
       "    <tr>\n",
       "      <th>1</th>\n",
       "      <td>2539329</td>\n",
       "      <td>1</td>\n",
       "      <td>1</td>\n",
       "      <td>2</td>\n",
       "      <td>8</td>\n",
       "      <td>0.0</td>\n",
       "      <td>14084</td>\n",
       "      <td>2</td>\n",
       "      <td>0</td>\n",
       "      <td>both</td>\n",
       "    </tr>\n",
       "    <tr>\n",
       "      <th>2</th>\n",
       "      <td>2539329</td>\n",
       "      <td>1</td>\n",
       "      <td>1</td>\n",
       "      <td>2</td>\n",
       "      <td>8</td>\n",
       "      <td>0.0</td>\n",
       "      <td>12427</td>\n",
       "      <td>3</td>\n",
       "      <td>0</td>\n",
       "      <td>both</td>\n",
       "    </tr>\n",
       "    <tr>\n",
       "      <th>3</th>\n",
       "      <td>2539329</td>\n",
       "      <td>1</td>\n",
       "      <td>1</td>\n",
       "      <td>2</td>\n",
       "      <td>8</td>\n",
       "      <td>0.0</td>\n",
       "      <td>26088</td>\n",
       "      <td>4</td>\n",
       "      <td>0</td>\n",
       "      <td>both</td>\n",
       "    </tr>\n",
       "    <tr>\n",
       "      <th>4</th>\n",
       "      <td>2539329</td>\n",
       "      <td>1</td>\n",
       "      <td>1</td>\n",
       "      <td>2</td>\n",
       "      <td>8</td>\n",
       "      <td>0.0</td>\n",
       "      <td>26405</td>\n",
       "      <td>5</td>\n",
       "      <td>0</td>\n",
       "      <td>both</td>\n",
       "    </tr>\n",
       "  </tbody>\n",
       "</table>\n",
       "</div>"
      ],
      "text/plain": [
       "   order_id  user_id  order_number  orders_days_of_week  order_hour_of_day  \\\n",
       "0   2539329        1             1                    2                  8   \n",
       "1   2539329        1             1                    2                  8   \n",
       "2   2539329        1             1                    2                  8   \n",
       "3   2539329        1             1                    2                  8   \n",
       "4   2539329        1             1                    2                  8   \n",
       "\n",
       "   days_since_prior_order  product_id  add_to_cart_order  reordered _merge  \n",
       "0                     0.0         196                  1          0   both  \n",
       "1                     0.0       14084                  2          0   both  \n",
       "2                     0.0       12427                  3          0   both  \n",
       "3                     0.0       26088                  4          0   both  \n",
       "4                     0.0       26405                  5          0   both  "
      ]
     },
     "execution_count": 63,
     "metadata": {},
     "output_type": "execute_result"
    }
   ],
   "source": [
    "df_merged_large.head()"
   ]
  },
  {
   "cell_type": "code",
   "execution_count": 65,
   "id": "3c1259dc-f3f8-450f-8872-bf650d258b30",
   "metadata": {},
   "outputs": [
    {
     "data": {
      "text/plain": [
       "_merge\n",
       "both          32434489\n",
       "left_only            0\n",
       "right_only           0\n",
       "Name: count, dtype: int64"
      ]
     },
     "execution_count": 65,
     "metadata": {},
     "output_type": "execute_result"
    }
   ],
   "source": [
    "df_merged_large['_merge'].value_counts()"
   ]
  },
  {
   "cell_type": "markdown",
   "id": "7d3b9b11-ee07-4a36-b4f7-0e710b935506",
   "metadata": {},
   "source": [
    "## Exporting the file to the prepared data folder in pkl Format"
   ]
  },
  {
   "cell_type": "code",
   "execution_count": 68,
   "id": "be23a2e7-e9ef-4f00-b368-c53d1db185b6",
   "metadata": {},
   "outputs": [],
   "source": [
    "df_merged_large.to_pickle(os.path.join(path, '02 Data','Prepared Data', 'orders_products_combined.pkl'))"
   ]
  },
  {
   "cell_type": "code",
   "execution_count": null,
   "id": "94a93eac-3069-4a1e-b7f0-657d1337eecf",
   "metadata": {},
   "outputs": [],
   "source": []
  }
 ],
 "metadata": {
  "kernelspec": {
   "display_name": "Python 3 (ipykernel)",
   "language": "python",
   "name": "python3"
  },
  "language_info": {
   "codemirror_mode": {
    "name": "ipython",
    "version": 3
   },
   "file_extension": ".py",
   "mimetype": "text/x-python",
   "name": "python",
   "nbconvert_exporter": "python",
   "pygments_lexer": "ipython3",
   "version": "3.12.4"
  }
 },
 "nbformat": 4,
 "nbformat_minor": 5
}
