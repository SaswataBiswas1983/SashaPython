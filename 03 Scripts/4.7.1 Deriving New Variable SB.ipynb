{
 "cells": [
  {
   "cell_type": "code",
   "execution_count": 1,
   "id": "161c8224-87f8-456f-92fa-8959f5bb53b8",
   "metadata": {},
   "outputs": [],
   "source": [
    "# Import Libraries\n",
    "import pandas as pd\n",
    "import numpy as np\n",
    "import os"
   ]
  },
  {
   "cell_type": "code",
   "execution_count": 3,
   "id": "355b5100-7992-4c5c-94cd-bc57162ad912",
   "metadata": {},
   "outputs": [],
   "source": [
    "# Create Path\n",
    "path = r'C:\\Users\\Lenovo\\Desktop\\Career Foundry\\28-06-2024 Instacart Basket Analysis - Saswata Biswas'"
   ]
  },
  {
   "cell_type": "code",
   "execution_count": 53,
   "id": "e36b63c3-e349-4fd9-8ef1-37d7c55260b2",
   "metadata": {},
   "outputs": [],
   "source": [
    "# Importing the latest ords_prods_merge data:\n",
    "\n",
    "df_ords_prods_merge = pd.read_pickle(os.path.join(path, '02 Data', 'Prepared Data', 'ords_prods_merge.pkl'))"
   ]
  },
  {
   "cell_type": "code",
   "execution_count": 55,
   "id": "1e16e7c5-4f91-4dff-907b-002e9e164dab",
   "metadata": {},
   "outputs": [],
   "source": [
    "#creating a subset of the first million rows:\n",
    "df = df_ords_prods_merge[:1000000]"
   ]
  },
  {
   "cell_type": "code",
   "execution_count": 57,
   "id": "da880a83-2f08-4798-ae97-66693e0c54c0",
   "metadata": {},
   "outputs": [
    {
     "data": {
      "text/plain": [
       "(1000000, 14)"
      ]
     },
     "execution_count": 57,
     "metadata": {},
     "output_type": "execute_result"
    }
   ],
   "source": [
    "df.shape"
   ]
  },
  {
   "cell_type": "code",
   "execution_count": 59,
   "id": "7ba2ae83-93f1-4654-bf9c-5cf32bbf8ad0",
   "metadata": {},
   "outputs": [],
   "source": [
    "#defining the price label function\n",
    "def price_label(row):\n",
    "\n",
    "  if row['prices'] <= 5:\n",
    "    return 'Low-range product'\n",
    "  elif (row['prices'] > 5) and (row['prices'] <= 15):\n",
    "    return 'Mid-range product'\n",
    "  elif row['prices'] > 15:\n",
    "    return 'High range'\n",
    "  else: return np.nan"
   ]
  },
  {
   "cell_type": "code",
   "execution_count": 61,
   "id": "2ed7f873-46ab-4229-8be8-07de3360e465",
   "metadata": {},
   "outputs": [
    {
     "name": "stderr",
     "output_type": "stream",
     "text": [
      "C:\\Users\\Lenovo\\AppData\\Local\\Temp\\ipykernel_2764\\3579438003.py:2: SettingWithCopyWarning: \n",
      "A value is trying to be set on a copy of a slice from a DataFrame.\n",
      "Try using .loc[row_indexer,col_indexer] = value instead\n",
      "\n",
      "See the caveats in the documentation: https://pandas.pydata.org/pandas-docs/stable/user_guide/indexing.html#returning-a-view-versus-a-copy\n",
      "  df['price_range'] = df.apply(price_label, axis = 1)\n"
     ]
    }
   ],
   "source": [
    "# After defining the function, we need to apply it to the dataframe:\n",
    "df['price_range'] = df.apply(price_label, axis = 1)"
   ]
  },
  {
   "cell_type": "code",
   "execution_count": 63,
   "id": "ff7336ed-c75e-4e4b-90e1-cc33ff292cff",
   "metadata": {},
   "outputs": [
    {
     "data": {
      "text/plain": [
       "price_range\n",
       "Mid-range product    673183\n",
       "Low-range product    314392\n",
       "High range            12425\n",
       "Name: count, dtype: int64"
      ]
     },
     "execution_count": 63,
     "metadata": {},
     "output_type": "execute_result"
    }
   ],
   "source": [
    "#check the number of values returned using the dropna function:\n",
    "df['price_range'].value_counts(dropna=False)"
   ]
  },
  {
   "cell_type": "code",
   "execution_count": 67,
   "id": "ba61e7b4-cb37-4d5d-a39f-5b41c288db0d",
   "metadata": {},
   "outputs": [
    {
     "data": {
      "text/plain": [
       "99999.0"
      ]
     },
     "execution_count": 67,
     "metadata": {},
     "output_type": "execute_result"
    }
   ],
   "source": [
    "df['prices'].max()"
   ]
  },
  {
   "cell_type": "code",
   "execution_count": 69,
   "id": "dc6b2e81-bc5f-47a9-baa6-f497a1c8d66c",
   "metadata": {},
   "outputs": [],
   "source": [
    "# As we can see the values returned do not match the ones in the exercise.\n",
    "#sorting the values as per order ID and then trying again:\n",
    "#Sorting the data using the prices\n",
    "df_sorted = df_ords_prods_merge.sort_values(by = 'order_id')"
   ]
  },
  {
   "cell_type": "code",
   "execution_count": 77,
   "id": "05435188-48ba-40cf-9810-10d314a56c69",
   "metadata": {},
   "outputs": [],
   "source": [
    "#now importing the million rows:\n",
    "df_2 = df_sorted[:1000000]"
   ]
  },
  {
   "cell_type": "code",
   "execution_count": 79,
   "id": "8538d24a-6496-4f53-94da-ada302506546",
   "metadata": {},
   "outputs": [],
   "source": [
    "#Defining the 'if' function again:\n",
    "\n",
    "def price_label(row):\n",
    "\n",
    "  if row['prices'] <= 5:\n",
    "    return 'Low-range product'\n",
    "  elif (row['prices'] > 5) and (row['prices'] <= 15):\n",
    "    return 'Mid-range product'\n",
    "  elif row['prices'] > 15:\n",
    "    return 'High range'\n",
    "  else: return np.nan"
   ]
  },
  {
   "cell_type": "code",
   "execution_count": 81,
   "id": "e14a0ec1-e2f2-47c4-9c87-8af4adf355b0",
   "metadata": {},
   "outputs": [
    {
     "name": "stderr",
     "output_type": "stream",
     "text": [
      "C:\\Users\\Lenovo\\AppData\\Local\\Temp\\ipykernel_2764\\3868242577.py:2: SettingWithCopyWarning: \n",
      "A value is trying to be set on a copy of a slice from a DataFrame.\n",
      "Try using .loc[row_indexer,col_indexer] = value instead\n",
      "\n",
      "See the caveats in the documentation: https://pandas.pydata.org/pandas-docs/stable/user_guide/indexing.html#returning-a-view-versus-a-copy\n",
      "  df_2['price_range'] = df_2.apply(price_label, axis = 1)\n"
     ]
    }
   ],
   "source": [
    "# After defining the function, we need to apply it to the dataframe:\n",
    "df_2['price_range'] = df_2.apply(price_label, axis = 1)\n"
   ]
  },
  {
   "cell_type": "code",
   "execution_count": 83,
   "id": "ef2ffe96-fe69-4db8-bd4e-c4124370d681",
   "metadata": {},
   "outputs": [
    {
     "data": {
      "text/plain": [
       "price_range\n",
       "Mid-range product    674228\n",
       "Low-range product    312860\n",
       "High range            12912\n",
       "Name: count, dtype: int64"
      ]
     },
     "execution_count": 83,
     "metadata": {},
     "output_type": "execute_result"
    }
   ],
   "source": [
    "# Let us check the values now:\n",
    "df_2['price_range'].value_counts(dropna=False)"
   ]
  },
  {
   "cell_type": "code",
   "execution_count": 85,
   "id": "dca6b3e2-d97c-43a5-b2f3-e97d12e01ae2",
   "metadata": {},
   "outputs": [],
   "source": [
    "#Note to self... \"Continue further\""
   ]
  },
  {
   "cell_type": "code",
   "execution_count": 87,
   "id": "5505f272-da1e-4f32-b72d-8bc2c29960df",
   "metadata": {},
   "outputs": [
    {
     "name": "stderr",
     "output_type": "stream",
     "text": [
      "C:\\Users\\Lenovo\\AppData\\Local\\Temp\\ipykernel_2764\\153838946.py:2: SettingWithCopyWarning: \n",
      "A value is trying to be set on a copy of a slice from a DataFrame.\n",
      "Try using .loc[row_indexer,col_indexer] = value instead\n",
      "\n",
      "See the caveats in the documentation: https://pandas.pydata.org/pandas-docs/stable/user_guide/indexing.html#returning-a-view-versus-a-copy\n",
      "  df.loc[df['prices'] > 15, 'price_range_loc'] = 'High-range product'\n"
     ]
    }
   ],
   "source": [
    "#Let us check the Loc function on both the new dataframes one by one:\n",
    "df.loc[df['prices'] > 15, 'price_range_loc'] = 'High-range product'"
   ]
  },
  {
   "cell_type": "code",
   "execution_count": 89,
   "id": "9c8200dc-0ba8-429c-b712-6c3951ddf38a",
   "metadata": {},
   "outputs": [],
   "source": [
    "df.loc[(df['prices'] <= 15) & (df['prices'] > 5), 'price_range_loc'] = 'Mid-range product' "
   ]
  },
  {
   "cell_type": "code",
   "execution_count": 91,
   "id": "598190fa-0977-4f9a-a986-0073db527af4",
   "metadata": {},
   "outputs": [],
   "source": [
    "df.loc[df['prices'] <= 5, 'price_range_loc'] = 'Low-range product'"
   ]
  },
  {
   "cell_type": "code",
   "execution_count": 95,
   "id": "f518ba47-edd8-4517-a5fd-ae1cf62e70a4",
   "metadata": {},
   "outputs": [
    {
     "data": {
      "text/plain": [
       "price_range_loc\n",
       "Mid-range product     674228\n",
       "Low-range product     312860\n",
       "High-range product     12912\n",
       "Name: count, dtype: int64"
      ]
     },
     "execution_count": 95,
     "metadata": {},
     "output_type": "execute_result"
    }
   ],
   "source": [
    "df['price_range_loc'].value_counts(dropna=False)"
   ]
  },
  {
   "cell_type": "code",
   "execution_count": 97,
   "id": "2831b1ab-281a-4c87-a3eb-2667cc6b9770",
   "metadata": {},
   "outputs": [],
   "source": [
    "# Creating a new Notebook to avoid memory errors"
   ]
  },
  {
   "cell_type": "code",
   "execution_count": null,
   "id": "7fc319fa-8b79-4eaf-8878-b541cb1e98aa",
   "metadata": {},
   "outputs": [],
   "source": []
  }
 ],
 "metadata": {
  "kernelspec": {
   "display_name": "Python 3 (ipykernel)",
   "language": "python",
   "name": "python3"
  },
  "language_info": {
   "codemirror_mode": {
    "name": "ipython",
    "version": 3
   },
   "file_extension": ".py",
   "mimetype": "text/x-python",
   "name": "python",
   "nbconvert_exporter": "python",
   "pygments_lexer": "ipython3",
   "version": "3.12.4"
  }
 },
 "nbformat": 4,
 "nbformat_minor": 5
}
