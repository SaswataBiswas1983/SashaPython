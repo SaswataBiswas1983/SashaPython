{
 "cells": [
  {
   "cell_type": "markdown",
   "id": "ad96a4a1-cda9-4457-8373-819986c133ce",
   "metadata": {},
   "source": [
    "# Importing and cleaning the customer data set"
   ]
  },
  {
   "cell_type": "code",
   "execution_count": 2,
   "id": "29c030f8-1e58-435b-ac30-800564de51f5",
   "metadata": {},
   "outputs": [],
   "source": [
    "import pandas as pd\n",
    "import numpy as np\n",
    "import os"
   ]
  },
  {
   "cell_type": "code",
   "execution_count": 6,
   "id": "cdbee18e-c426-44d9-bb3e-d25688cbdf1c",
   "metadata": {},
   "outputs": [],
   "source": [
    "path = r'C:\\Users\\Lenovo\\Desktop\\Career Foundry\\28-06-2024 Instacart Basket Analysis - Saswata Biswas'"
   ]
  },
  {
   "cell_type": "code",
   "execution_count": 8,
   "id": "4290b6a3-f9b7-483b-9c41-cb5e4ac89a55",
   "metadata": {},
   "outputs": [],
   "source": [
    "# Import new customer data set from the 'Original Data' folder as a dataframe\n",
    "customers = pd.read_csv(os.path.join(path, '02 Data', 'Original Data', 'customers.csv'))"
   ]
  },
  {
   "cell_type": "markdown",
   "id": "3997958a-96fc-424c-ad44-76dc76b84506",
   "metadata": {},
   "source": [
    "## Q 04: Wrangling"
   ]
  },
  {
   "cell_type": "code",
   "execution_count": 10,
   "id": "afabca4c-688e-431d-ba3d-46f5660423a8",
   "metadata": {},
   "outputs": [
    {
     "data": {
      "text/plain": [
       "user_id          int64\n",
       "First Name      object\n",
       "Surnam          object\n",
       "Gender          object\n",
       "STATE           object\n",
       "Age              int64\n",
       "date_joined     object\n",
       "n_dependants     int64\n",
       "fam_status      object\n",
       "income           int64\n",
       "dtype: object"
      ]
     },
     "execution_count": 10,
     "metadata": {},
     "output_type": "execute_result"
    }
   ],
   "source": [
    "#Checking the data types to see if anything can be compressed\n",
    "customers.dtypes"
   ]
  },
  {
   "cell_type": "code",
   "execution_count": 14,
   "id": "9ee6343c-d316-4543-8f08-682bb1471752",
   "metadata": {},
   "outputs": [
    {
     "data": {
      "text/html": [
       "<div>\n",
       "<style scoped>\n",
       "    .dataframe tbody tr th:only-of-type {\n",
       "        vertical-align: middle;\n",
       "    }\n",
       "\n",
       "    .dataframe tbody tr th {\n",
       "        vertical-align: top;\n",
       "    }\n",
       "\n",
       "    .dataframe thead th {\n",
       "        text-align: right;\n",
       "    }\n",
       "</style>\n",
       "<table border=\"1\" class=\"dataframe\">\n",
       "  <thead>\n",
       "    <tr style=\"text-align: right;\">\n",
       "      <th></th>\n",
       "      <th>user_id</th>\n",
       "      <th>First Name</th>\n",
       "      <th>Surnam</th>\n",
       "      <th>Gender</th>\n",
       "      <th>STATE</th>\n",
       "      <th>Age</th>\n",
       "      <th>date_joined</th>\n",
       "      <th>n_dependants</th>\n",
       "      <th>fam_status</th>\n",
       "      <th>income</th>\n",
       "    </tr>\n",
       "  </thead>\n",
       "  <tbody>\n",
       "    <tr>\n",
       "      <th>0</th>\n",
       "      <td>26711</td>\n",
       "      <td>Deborah</td>\n",
       "      <td>Esquivel</td>\n",
       "      <td>Female</td>\n",
       "      <td>Missouri</td>\n",
       "      <td>48</td>\n",
       "      <td>1/1/2017</td>\n",
       "      <td>3</td>\n",
       "      <td>married</td>\n",
       "      <td>165665</td>\n",
       "    </tr>\n",
       "    <tr>\n",
       "      <th>1</th>\n",
       "      <td>33890</td>\n",
       "      <td>Patricia</td>\n",
       "      <td>Hart</td>\n",
       "      <td>Female</td>\n",
       "      <td>New Mexico</td>\n",
       "      <td>36</td>\n",
       "      <td>1/1/2017</td>\n",
       "      <td>0</td>\n",
       "      <td>single</td>\n",
       "      <td>59285</td>\n",
       "    </tr>\n",
       "    <tr>\n",
       "      <th>2</th>\n",
       "      <td>65803</td>\n",
       "      <td>Kenneth</td>\n",
       "      <td>Farley</td>\n",
       "      <td>Male</td>\n",
       "      <td>Idaho</td>\n",
       "      <td>35</td>\n",
       "      <td>1/1/2017</td>\n",
       "      <td>2</td>\n",
       "      <td>married</td>\n",
       "      <td>99568</td>\n",
       "    </tr>\n",
       "    <tr>\n",
       "      <th>3</th>\n",
       "      <td>125935</td>\n",
       "      <td>Michelle</td>\n",
       "      <td>Hicks</td>\n",
       "      <td>Female</td>\n",
       "      <td>Iowa</td>\n",
       "      <td>40</td>\n",
       "      <td>1/1/2017</td>\n",
       "      <td>0</td>\n",
       "      <td>single</td>\n",
       "      <td>42049</td>\n",
       "    </tr>\n",
       "    <tr>\n",
       "      <th>4</th>\n",
       "      <td>130797</td>\n",
       "      <td>Ann</td>\n",
       "      <td>Gilmore</td>\n",
       "      <td>Female</td>\n",
       "      <td>Maryland</td>\n",
       "      <td>26</td>\n",
       "      <td>1/1/2017</td>\n",
       "      <td>1</td>\n",
       "      <td>married</td>\n",
       "      <td>40374</td>\n",
       "    </tr>\n",
       "  </tbody>\n",
       "</table>\n",
       "</div>"
      ],
      "text/plain": [
       "   user_id First Name    Surnam  Gender       STATE  Age date_joined  \\\n",
       "0    26711    Deborah  Esquivel  Female    Missouri   48    1/1/2017   \n",
       "1    33890   Patricia      Hart  Female  New Mexico   36    1/1/2017   \n",
       "2    65803    Kenneth    Farley    Male       Idaho   35    1/1/2017   \n",
       "3   125935   Michelle     Hicks  Female        Iowa   40    1/1/2017   \n",
       "4   130797        Ann   Gilmore  Female    Maryland   26    1/1/2017   \n",
       "\n",
       "   n_dependants fam_status  income  \n",
       "0             3    married  165665  \n",
       "1             0     single   59285  \n",
       "2             2    married   99568  \n",
       "3             0     single   42049  \n",
       "4             1    married   40374  "
      ]
     },
     "execution_count": 14,
     "metadata": {},
     "output_type": "execute_result"
    }
   ],
   "source": [
    "#Checking the head\n",
    "customers.head()"
   ]
  },
  {
   "cell_type": "code",
   "execution_count": 16,
   "id": "047425a0-1846-4410-863f-a1f37758fb17",
   "metadata": {},
   "outputs": [],
   "source": [
    "# Changing the diplay type:\n",
    "pd.set_option('display.float_format', lambda x: '%.2f' % x)"
   ]
  },
  {
   "cell_type": "code",
   "execution_count": 18,
   "id": "29094714-b181-4a4e-8b79-7fa39b6e1d70",
   "metadata": {},
   "outputs": [
    {
     "data": {
      "text/html": [
       "<div>\n",
       "<style scoped>\n",
       "    .dataframe tbody tr th:only-of-type {\n",
       "        vertical-align: middle;\n",
       "    }\n",
       "\n",
       "    .dataframe tbody tr th {\n",
       "        vertical-align: top;\n",
       "    }\n",
       "\n",
       "    .dataframe thead th {\n",
       "        text-align: right;\n",
       "    }\n",
       "</style>\n",
       "<table border=\"1\" class=\"dataframe\">\n",
       "  <thead>\n",
       "    <tr style=\"text-align: right;\">\n",
       "      <th></th>\n",
       "      <th>user_id</th>\n",
       "      <th>Age</th>\n",
       "      <th>n_dependants</th>\n",
       "      <th>income</th>\n",
       "    </tr>\n",
       "  </thead>\n",
       "  <tbody>\n",
       "    <tr>\n",
       "      <th>count</th>\n",
       "      <td>206209.00</td>\n",
       "      <td>206209.00</td>\n",
       "      <td>206209.00</td>\n",
       "      <td>206209.00</td>\n",
       "    </tr>\n",
       "    <tr>\n",
       "      <th>mean</th>\n",
       "      <td>103105.00</td>\n",
       "      <td>49.50</td>\n",
       "      <td>1.50</td>\n",
       "      <td>94632.85</td>\n",
       "    </tr>\n",
       "    <tr>\n",
       "      <th>std</th>\n",
       "      <td>59527.56</td>\n",
       "      <td>18.48</td>\n",
       "      <td>1.12</td>\n",
       "      <td>42473.79</td>\n",
       "    </tr>\n",
       "    <tr>\n",
       "      <th>min</th>\n",
       "      <td>1.00</td>\n",
       "      <td>18.00</td>\n",
       "      <td>0.00</td>\n",
       "      <td>25903.00</td>\n",
       "    </tr>\n",
       "    <tr>\n",
       "      <th>25%</th>\n",
       "      <td>51553.00</td>\n",
       "      <td>33.00</td>\n",
       "      <td>0.00</td>\n",
       "      <td>59874.00</td>\n",
       "    </tr>\n",
       "    <tr>\n",
       "      <th>50%</th>\n",
       "      <td>103105.00</td>\n",
       "      <td>49.00</td>\n",
       "      <td>1.00</td>\n",
       "      <td>93547.00</td>\n",
       "    </tr>\n",
       "    <tr>\n",
       "      <th>75%</th>\n",
       "      <td>154657.00</td>\n",
       "      <td>66.00</td>\n",
       "      <td>3.00</td>\n",
       "      <td>124244.00</td>\n",
       "    </tr>\n",
       "    <tr>\n",
       "      <th>max</th>\n",
       "      <td>206209.00</td>\n",
       "      <td>81.00</td>\n",
       "      <td>3.00</td>\n",
       "      <td>593901.00</td>\n",
       "    </tr>\n",
       "  </tbody>\n",
       "</table>\n",
       "</div>"
      ],
      "text/plain": [
       "        user_id       Age  n_dependants    income\n",
       "count 206209.00 206209.00     206209.00 206209.00\n",
       "mean  103105.00     49.50          1.50  94632.85\n",
       "std    59527.56     18.48          1.12  42473.79\n",
       "min        1.00     18.00          0.00  25903.00\n",
       "25%    51553.00     33.00          0.00  59874.00\n",
       "50%   103105.00     49.00          1.00  93547.00\n",
       "75%   154657.00     66.00          3.00 124244.00\n",
       "max   206209.00     81.00          3.00 593901.00"
      ]
     },
     "execution_count": 18,
     "metadata": {},
     "output_type": "execute_result"
    }
   ],
   "source": [
    "# Checking the details:\n",
    "customers.describe()"
   ]
  },
  {
   "cell_type": "code",
   "execution_count": 20,
   "id": "a67ea18d-77a0-48d0-9f97-6f868d233ed6",
   "metadata": {},
   "outputs": [],
   "source": [
    "# Changing the data types to compress the file:\n",
    "\n",
    "customers['user_id']=customers['user_id'].astype('int32')\n",
    "customers['Age']=customers['Age'].astype('int16')\n",
    "customers['n_dependants']=customers['n_dependants'].astype('int8')\n",
    "customers['income']=customers['income'].astype('int32')"
   ]
  },
  {
   "cell_type": "code",
   "execution_count": 22,
   "id": "ec1bc148-cd76-427d-8302-1bc57aff9920",
   "metadata": {},
   "outputs": [
    {
     "data": {
      "text/plain": [
       "user_id          int32\n",
       "First Name      object\n",
       "Surnam          object\n",
       "Gender          object\n",
       "STATE           object\n",
       "Age              int16\n",
       "date_joined     object\n",
       "n_dependants      int8\n",
       "fam_status      object\n",
       "income           int32\n",
       "dtype: object"
      ]
     },
     "execution_count": 22,
     "metadata": {},
     "output_type": "execute_result"
    }
   ],
   "source": [
    "#Checking whether it worked:\n",
    "customers.dtypes"
   ]
  },
  {
   "cell_type": "code",
   "execution_count": 24,
   "id": "2db93f7f-334b-478c-a2ba-88cc4e3de36a",
   "metadata": {},
   "outputs": [],
   "source": [
    "# Changing names to match the other ors_prods file:\n",
    "\n",
    "customers.rename(columns = {'First Name' : 'first_name'}, inplace = True)\n",
    "customers.rename(columns = {'Surnam' : 'surname'}, inplace = True)\n",
    "customers.rename(columns = {'Gender' : 'gender'}, inplace = True)\n",
    "customers.rename(columns = {'Age' : 'age'}, inplace = True)\n",
    "customers.rename(columns = {'STATE' : 'state'}, inplace = True)\n",
    "customers.rename(columns = {'fam_status' : 'marital_status'}, inplace = True)"
   ]
  },
  {
   "cell_type": "markdown",
   "id": "5894402d-42d1-43c1-b2cc-e03e25c058dd",
   "metadata": {},
   "source": [
    "## Q 05: Check for Dups or missing values or mixed data types"
   ]
  },
  {
   "cell_type": "code",
   "execution_count": 26,
   "id": "5f8d91cb-b4b8-40ef-8ce8-b8367df723c9",
   "metadata": {},
   "outputs": [
    {
     "name": "stdout",
     "output_type": "stream",
     "text": [
      "first_name\n"
     ]
    }
   ],
   "source": [
    "# Checking for mixed data-types in each column\n",
    "for col in customers.columns.tolist():\n",
    "  weird = (customers[[col]].map(type) != customers[[col]].iloc[0].apply(type)).any(axis = 1)\n",
    "  if len (customers[weird]) > 0:\n",
    "    print (col)"
   ]
  },
  {
   "cell_type": "code",
   "execution_count": 28,
   "id": "9610a517-d144-47ef-a06c-b357ad571286",
   "metadata": {},
   "outputs": [],
   "source": [
    "# Changing the data type for first_name:\n",
    "\n",
    "customers['first_name']=customers['first_name'].astype('str')"
   ]
  },
  {
   "cell_type": "code",
   "execution_count": 30,
   "id": "bc9b4455-3c2e-455b-a4e1-fd5fb5fcfc43",
   "metadata": {},
   "outputs": [
    {
     "data": {
      "text/plain": [
       "user_id            int32\n",
       "first_name        object\n",
       "surname           object\n",
       "gender            object\n",
       "state             object\n",
       "age                int16\n",
       "date_joined       object\n",
       "n_dependants        int8\n",
       "marital_status    object\n",
       "income             int32\n",
       "dtype: object"
      ]
     },
     "execution_count": 30,
     "metadata": {},
     "output_type": "execute_result"
    }
   ],
   "source": [
    "# Checking the file after all the changes:\n",
    "\n",
    "customers.dtypes"
   ]
  },
  {
   "cell_type": "code",
   "execution_count": 37,
   "id": "cbd08d60-4e84-4221-8a80-206d8ac13034",
   "metadata": {},
   "outputs": [
    {
     "data": {
      "text/plain": [
       "user_id           0\n",
       "first_name        0\n",
       "surname           0\n",
       "gender            0\n",
       "state             0\n",
       "age               0\n",
       "date_joined       0\n",
       "n_dependants      0\n",
       "marital_status    0\n",
       "income            0\n",
       "dtype: int64"
      ]
     },
     "execution_count": 37,
     "metadata": {},
     "output_type": "execute_result"
    }
   ],
   "source": [
    "# Check for missing data\n",
    "customers.isnull().sum()"
   ]
  },
  {
   "cell_type": "code",
   "execution_count": 39,
   "id": "2fdbb6e2-02fd-4a3a-ad10-6d342c155621",
   "metadata": {},
   "outputs": [],
   "source": [
    "# Check for full-duplicates (first create a new df)\n",
    "customers_dups = customers[customers.duplicated()]"
   ]
  },
  {
   "cell_type": "code",
   "execution_count": 41,
   "id": "14865bf0-6510-412c-8f37-21d9a2b1df54",
   "metadata": {},
   "outputs": [
    {
     "data": {
      "text/html": [
       "<div>\n",
       "<style scoped>\n",
       "    .dataframe tbody tr th:only-of-type {\n",
       "        vertical-align: middle;\n",
       "    }\n",
       "\n",
       "    .dataframe tbody tr th {\n",
       "        vertical-align: top;\n",
       "    }\n",
       "\n",
       "    .dataframe thead th {\n",
       "        text-align: right;\n",
       "    }\n",
       "</style>\n",
       "<table border=\"1\" class=\"dataframe\">\n",
       "  <thead>\n",
       "    <tr style=\"text-align: right;\">\n",
       "      <th></th>\n",
       "      <th>user_id</th>\n",
       "      <th>first_name</th>\n",
       "      <th>surname</th>\n",
       "      <th>gender</th>\n",
       "      <th>state</th>\n",
       "      <th>age</th>\n",
       "      <th>date_joined</th>\n",
       "      <th>n_dependants</th>\n",
       "      <th>marital_status</th>\n",
       "      <th>income</th>\n",
       "    </tr>\n",
       "  </thead>\n",
       "  <tbody>\n",
       "  </tbody>\n",
       "</table>\n",
       "</div>"
      ],
      "text/plain": [
       "Empty DataFrame\n",
       "Columns: [user_id, first_name, surname, gender, state, age, date_joined, n_dependants, marital_status, income]\n",
       "Index: []"
      ]
     },
     "execution_count": 41,
     "metadata": {},
     "output_type": "execute_result"
    }
   ],
   "source": [
    "#Check the new DF\n",
    "customers_dups"
   ]
  },
  {
   "cell_type": "markdown",
   "id": "fba37d3c-2f8a-4bc3-9c6b-585027570270",
   "metadata": {},
   "source": [
    "#### Good news: No duplicates are found"
   ]
  },
  {
   "cell_type": "markdown",
   "id": "2b826c0f-d8cb-4338-9c7d-0edf76817638",
   "metadata": {},
   "source": [
    "## We will not be dropping any column as they might reveal further insight, for example, a person with more dependants might tend to buy more produce"
   ]
  },
  {
   "cell_type": "markdown",
   "id": "51e71e43-5290-46e6-905e-07dc85567267",
   "metadata": {},
   "source": [
    "## Q 06: Combine your customer data with the rest of your prepared Instacart data. (Hint: Make sure the key columns are the same data type!)"
   ]
  },
  {
   "cell_type": "code",
   "execution_count": 46,
   "id": "6faadf43-a529-44d6-9da7-da61f9a61260",
   "metadata": {},
   "outputs": [],
   "source": [
    "# Step 1 Import the latest ords_prods_file\n"
   ]
  },
  {
   "cell_type": "code",
   "execution_count": 48,
   "id": "7ca9d2ee-e1ad-488a-8944-10ba84cbb9fa",
   "metadata": {},
   "outputs": [],
   "source": [
    "ords_prods_merge = pd.read_pickle(os.path.join(path, '02 Data', 'Prepared Data', 'orders_products_aggregated.pkl'))"
   ]
  },
  {
   "cell_type": "code",
   "execution_count": 50,
   "id": "8593c65c-636e-4734-bf85-bfc662e60825",
   "metadata": {},
   "outputs": [
    {
     "data": {
      "text/plain": [
       "order_id                     int32\n",
       "user_id                      int32\n",
       "order_number                  int8\n",
       "orders_days_of_week           int8\n",
       "order_hour_of_day             int8\n",
       "days_since_prior_order     float16\n",
       "product_id                   int32\n",
       "add_to_cart_order            int16\n",
       "reordered                     int8\n",
       "product_name                object\n",
       "aisle_id                     int16\n",
       "department_id                 int8\n",
       "prices                     float64\n",
       "_merge                    category\n",
       "price_range_loc             object\n",
       "busiest_day                 object\n",
       "busiest_days                object\n",
       "busiest_period_of_day       object\n",
       "max_order                     int8\n",
       "loyalty_flag                object\n",
       "average_spend              float64\n",
       "spender_flag                object\n",
       "customer_frequency         float16\n",
       "frequency_flag              object\n",
       "dtype: object"
      ]
     },
     "execution_count": 50,
     "metadata": {},
     "output_type": "execute_result"
    }
   ],
   "source": [
    "# Checking data types and looking for the key column:\n",
    "ords_prods_merge.dtypes"
   ]
  },
  {
   "cell_type": "markdown",
   "id": "6d43be40-145a-4a9d-9ac1-6ace1e795dec",
   "metadata": {},
   "source": [
    "### We can use the user_id as the key column as they are available in both data sets"
   ]
  },
  {
   "cell_type": "code",
   "execution_count": 53,
   "id": "117deb9c-eb99-4bde-aed5-7a1a5dbbd577",
   "metadata": {},
   "outputs": [],
   "source": [
    "# Drop the existing '_merge' column from previous exercises\n",
    "ords_prods_merge = ords_prods_merge.drop(columns=['_merge'])"
   ]
  },
  {
   "cell_type": "code",
   "execution_count": 55,
   "id": "47bd14b7-18d6-434a-baf3-6cca12608bd7",
   "metadata": {},
   "outputs": [],
   "source": [
    "# Merge the two dataframes using the column 'user_id' as the shared column with the default join (inner)\n",
    "\n",
    "cust_ord_prod = ords_prods_merge.merge(customers, on = 'user_id', indicator = True)"
   ]
  },
  {
   "cell_type": "code",
   "execution_count": 57,
   "id": "4911ce4c-12cc-4d99-9917-2f3d4f4f22aa",
   "metadata": {},
   "outputs": [
    {
     "data": {
      "text/plain": [
       "(32404859, 33)"
      ]
     },
     "execution_count": 57,
     "metadata": {},
     "output_type": "execute_result"
    }
   ],
   "source": [
    "# Checking to see the newly produced DF:\n",
    "cust_ord_prod.shape"
   ]
  },
  {
   "cell_type": "code",
   "execution_count": 59,
   "id": "7fbdc24e-039a-4a0d-8884-a9d98eb3d4db",
   "metadata": {},
   "outputs": [
    {
     "data": {
      "text/plain": [
       "order_id                     int32\n",
       "user_id                      int32\n",
       "order_number                  int8\n",
       "orders_days_of_week           int8\n",
       "order_hour_of_day             int8\n",
       "days_since_prior_order     float16\n",
       "product_id                   int32\n",
       "add_to_cart_order            int16\n",
       "reordered                     int8\n",
       "product_name                object\n",
       "aisle_id                     int16\n",
       "department_id                 int8\n",
       "prices                     float64\n",
       "price_range_loc             object\n",
       "busiest_day                 object\n",
       "busiest_days                object\n",
       "busiest_period_of_day       object\n",
       "max_order                     int8\n",
       "loyalty_flag                object\n",
       "average_spend              float64\n",
       "spender_flag                object\n",
       "customer_frequency         float16\n",
       "frequency_flag              object\n",
       "first_name                  object\n",
       "surname                     object\n",
       "gender                      object\n",
       "state                       object\n",
       "age                          int16\n",
       "date_joined                 object\n",
       "n_dependants                  int8\n",
       "marital_status              object\n",
       "income                       int32\n",
       "_merge                    category\n",
       "dtype: object"
      ]
     },
     "execution_count": 59,
     "metadata": {},
     "output_type": "execute_result"
    }
   ],
   "source": [
    "cust_ord_prod.dtypes"
   ]
  },
  {
   "cell_type": "code",
   "execution_count": 61,
   "id": "bc186627-bbc5-4592-8738-192afae91501",
   "metadata": {},
   "outputs": [
    {
     "data": {
      "text/plain": [
       "_merge\n",
       "both          32404859\n",
       "left_only            0\n",
       "right_only           0\n",
       "Name: count, dtype: int64"
      ]
     },
     "execution_count": 61,
     "metadata": {},
     "output_type": "execute_result"
    }
   ],
   "source": [
    "# Check inner join value counts and whether there are any outliers\n",
    "cust_ord_prod['_merge'].value_counts()"
   ]
  },
  {
   "cell_type": "markdown",
   "id": "484f15c6-9e94-47c1-ab61-b4589d688686",
   "metadata": {},
   "source": [
    "### The count of both and the count of rows match"
   ]
  },
  {
   "cell_type": "markdown",
   "id": "7db71899-f281-416d-8dc8-362339c882fa",
   "metadata": {},
   "source": [
    "## Q 08: Export this new dataframe as a pickle file so you can continue to use it in the second part of this task."
   ]
  },
  {
   "cell_type": "code",
   "execution_count": 65,
   "id": "8f2727a7-41b5-43a4-964e-44e738bc3b49",
   "metadata": {},
   "outputs": [],
   "source": [
    "cust_ord_prod.to_pickle(os.path.join(path, '02 Data','Prepared Data', 'orders_products_customers_merged.pkl'))"
   ]
  },
  {
   "cell_type": "markdown",
   "id": "7572a897-692d-454d-b728-8fc0d9f9ad22",
   "metadata": {},
   "source": [
    "#### Checked the Prepared Data folder and the file has been exported succesfully"
   ]
  },
  {
   "cell_type": "code",
   "execution_count": null,
   "id": "a6e43255-8352-4a4e-b2f9-cefcbae7b839",
   "metadata": {},
   "outputs": [],
   "source": []
  }
 ],
 "metadata": {
  "kernelspec": {
   "display_name": "Python 3 (ipykernel)",
   "language": "python",
   "name": "python3"
  },
  "language_info": {
   "codemirror_mode": {
    "name": "ipython",
    "version": 3
   },
   "file_extension": ".py",
   "mimetype": "text/x-python",
   "name": "python",
   "nbconvert_exporter": "python",
   "pygments_lexer": "ipython3",
   "version": "3.12.4"
  }
 },
 "nbformat": 4,
 "nbformat_minor": 5
}
