{
 "cells": [
  {
   "cell_type": "markdown",
   "id": "0f3b7f1d-9ca8-42c3-93dc-87308591aca0",
   "metadata": {},
   "source": [
    "# 01. Importing Libraries"
   ]
  },
  {
   "cell_type": "code",
   "execution_count": 3,
   "id": "1823b8ba-1379-4a5a-bc60-1e5d7a1766d3",
   "metadata": {},
   "outputs": [],
   "source": [
    "# import libraries\n",
    "import pandas as pd\n",
    "import numpy as np\n",
    "import os"
   ]
  },
  {
   "cell_type": "markdown",
   "id": "1c3e4ff5-1bd8-4643-b767-14bf0d7e737a",
   "metadata": {},
   "source": [
    "## Working with python Data types"
   ]
  },
  {
   "cell_type": "code",
   "execution_count": 6,
   "id": "80290aa1-9c8a-44d1-b6f0-a805b1350ef9",
   "metadata": {},
   "outputs": [],
   "source": [
    "a=22"
   ]
  },
  {
   "cell_type": "code",
   "execution_count": 36,
   "id": "aac44281-0cd9-4d74-a2bc-936cde8f56e0",
   "metadata": {},
   "outputs": [],
   "source": [
    "b=78"
   ]
  },
  {
   "cell_type": "code",
   "execution_count": 38,
   "id": "24d6038e-cb61-481d-bc9c-f37c10db8b04",
   "metadata": {},
   "outputs": [],
   "source": [
    "c=280"
   ]
  },
  {
   "cell_type": "code",
   "execution_count": 40,
   "id": "369d083b-1cf3-43a8-9747-3951df7edeff",
   "metadata": {},
   "outputs": [],
   "source": [
    "d=180"
   ]
  },
  {
   "cell_type": "code",
   "execution_count": 42,
   "id": "73b06355-aa0a-406b-ac14-76236383d4a9",
   "metadata": {},
   "outputs": [],
   "source": [
    "e=101"
   ]
  },
  {
   "cell_type": "code",
   "execution_count": 44,
   "id": "5984e34f-2693-4136-9cab-683988bacce9",
   "metadata": {},
   "outputs": [],
   "source": [
    "f=1"
   ]
  },
  {
   "cell_type": "code",
   "execution_count": 46,
   "id": "02a53fff-31ea-4f5b-b576-a062eeefbb66",
   "metadata": {},
   "outputs": [
    {
     "data": {
      "text/plain": [
       "100"
      ]
     },
     "execution_count": 46,
     "metadata": {},
     "output_type": "execute_result"
    }
   ],
   "source": [
    "a+b"
   ]
  },
  {
   "cell_type": "code",
   "execution_count": 48,
   "id": "db90043f-cfb0-4315-8a09-b2be7c7b15ba",
   "metadata": {},
   "outputs": [
    {
     "data": {
      "text/plain": [
       "100"
      ]
     },
     "execution_count": 48,
     "metadata": {},
     "output_type": "execute_result"
    }
   ],
   "source": [
    "c-d"
   ]
  },
  {
   "cell_type": "code",
   "execution_count": 50,
   "id": "0a8196aa-9eae-48a6-b6ff-0f9a5615e361",
   "metadata": {},
   "outputs": [
    {
     "data": {
      "text/plain": [
       "100"
      ]
     },
     "execution_count": 50,
     "metadata": {},
     "output_type": "execute_result"
    }
   ],
   "source": [
    "e-f"
   ]
  },
  {
   "cell_type": "code",
   "execution_count": 52,
   "id": "ec995d16-b0b8-4729-bc65-144daa4367e1",
   "metadata": {},
   "outputs": [],
   "source": [
    "g=1.68"
   ]
  },
  {
   "cell_type": "code",
   "execution_count": 54,
   "id": "67ea6d63-061f-4865-ae7d-3d269f31d7a8",
   "metadata": {},
   "outputs": [],
   "source": [
    "h=1.99"
   ]
  },
  {
   "cell_type": "code",
   "execution_count": 56,
   "id": "a08805d8-c9ba-4a6e-9ecf-73a6f8bab379",
   "metadata": {},
   "outputs": [
    {
     "data": {
      "text/plain": [
       "0.8442211055276382"
      ]
     },
     "execution_count": 56,
     "metadata": {},
     "output_type": "execute_result"
    }
   ],
   "source": [
    "g/h"
   ]
  },
  {
   "cell_type": "code",
   "execution_count": 58,
   "id": "40311611-62d1-468d-b8e5-5858b6bbf419",
   "metadata": {},
   "outputs": [],
   "source": [
    "i='Su'"
   ]
  },
  {
   "cell_type": "code",
   "execution_count": 60,
   "id": "82b49f54-c0fb-41ae-8f8c-7b226a3d924d",
   "metadata": {},
   "outputs": [],
   "source": [
    "j='n'"
   ]
  },
  {
   "cell_type": "code",
   "execution_count": 62,
   "id": "db4ec8d4-0739-4a77-a3a5-e5aae90f34b3",
   "metadata": {},
   "outputs": [
    {
     "data": {
      "text/plain": [
       "'Sun'"
      ]
     },
     "execution_count": 62,
     "metadata": {},
     "output_type": "execute_result"
    }
   ],
   "source": [
    "i+j"
   ]
  },
  {
   "cell_type": "code",
   "execution_count": 64,
   "id": "3745eaaa-cb47-4b48-855b-905da9ff43ec",
   "metadata": {},
   "outputs": [],
   "source": [
    "k='the sun rises in the '"
   ]
  },
  {
   "cell_type": "code",
   "execution_count": 66,
   "id": "dc17fe91-5e02-4927-8c6d-4a8de4608ca0",
   "metadata": {},
   "outputs": [],
   "source": [
    "l='east when we are on earth'"
   ]
  },
  {
   "cell_type": "code",
   "execution_count": 68,
   "id": "90203a2f-6fc4-4988-a13b-d2c387fb83c8",
   "metadata": {},
   "outputs": [
    {
     "data": {
      "text/plain": [
       "'the sun rises in the east when we are on earth'"
      ]
     },
     "execution_count": 68,
     "metadata": {},
     "output_type": "execute_result"
    }
   ],
   "source": [
    "k+l"
   ]
  },
  {
   "cell_type": "code",
   "execution_count": null,
   "id": "43dc5e46-da72-48ad-a682-7a8e5028604e",
   "metadata": {},
   "outputs": [],
   "source": []
  }
 ],
 "metadata": {
  "kernelspec": {
   "display_name": "Python 3 (ipykernel)",
   "language": "python",
   "name": "python3"
  },
  "language_info": {
   "codemirror_mode": {
    "name": "ipython",
    "version": 3
   },
   "file_extension": ".py",
   "mimetype": "text/x-python",
   "name": "python",
   "nbconvert_exporter": "python",
   "pygments_lexer": "ipython3",
   "version": "3.12.4"
  }
 },
 "nbformat": 4,
 "nbformat_minor": 5
}
