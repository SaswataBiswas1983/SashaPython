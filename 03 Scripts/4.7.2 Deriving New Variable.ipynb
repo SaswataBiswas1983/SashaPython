{
 "cells": [
  {
   "cell_type": "code",
   "execution_count": 1,
   "id": "ab1379d8-5b62-4791-8e9c-14aca99c11a5",
   "metadata": {},
   "outputs": [],
   "source": [
    "# Import Libraries\n",
    "import pandas as pd\n",
    "import numpy as np\n",
    "import os"
   ]
  },
  {
   "cell_type": "code",
   "execution_count": 2,
   "id": "a0f755e5-661e-4134-ba2a-bb20664222f4",
   "metadata": {},
   "outputs": [],
   "source": [
    "# Create Path\n",
    "path = r'C:\\Users\\Lenovo\\Desktop\\Career Foundry\\28-06-2024 Instacart Basket Analysis - Saswata Biswas'"
   ]
  },
  {
   "cell_type": "code",
   "execution_count": 5,
   "id": "86cde006-0be2-4027-94d4-e0b00c020523",
   "metadata": {},
   "outputs": [],
   "source": [
    "# Importing the latest ords_prods_merge data:\n",
    "\n",
    "df_ords_prods_merge = pd.read_pickle(os.path.join(path, '02 Data', 'Prepared Data', 'ords_prods_merge.pkl'))"
   ]
  },
  {
   "cell_type": "code",
   "execution_count": 7,
   "id": "cb1b5160-ca37-4cdb-a58b-927e1d0c2a39",
   "metadata": {},
   "outputs": [],
   "source": [
    "#using the loc function on the entire dataset:\n",
    "df_ords_prods_merge.loc[df_ords_prods_merge['prices'] > 15, 'price_range_loc'] = 'High-range product'"
   ]
  },
  {
   "cell_type": "code",
   "execution_count": 11,
   "id": "b987808e-723e-4162-a98c-a5e9b9a420e6",
   "metadata": {},
   "outputs": [],
   "source": [
    "df_ords_prods_merge.loc[(df_ords_prods_merge['prices'] <= 15) & (df_ords_prods_merge['prices'] > 5), 'price_range_loc'] = 'Mid-range product' "
   ]
  },
  {
   "cell_type": "code",
   "execution_count": 13,
   "id": "17dee000-bbee-45a3-a18a-b886caed0c47",
   "metadata": {},
   "outputs": [],
   "source": [
    "df_ords_prods_merge.loc[df_ords_prods_merge['prices'] <= 5, 'price_range_loc'] = 'Low-range product'"
   ]
  },
  {
   "cell_type": "code",
   "execution_count": 15,
   "id": "646b373d-4ce3-4202-a647-460ac92a2da2",
   "metadata": {},
   "outputs": [
    {
     "data": {
      "text/plain": [
       "price_range_loc\n",
       "Mid-range product     21860860\n",
       "Low-range product     10126321\n",
       "High-range product      417678\n",
       "Name: count, dtype: int64"
      ]
     },
     "execution_count": 15,
     "metadata": {},
     "output_type": "execute_result"
    }
   ],
   "source": [
    "df_ords_prods_merge['price_range_loc'].value_counts(dropna = False)"
   ]
  },
  {
   "cell_type": "code",
   "execution_count": 17,
   "id": "973f579e-dbbf-4aca-8415-ca5b1a960c62",
   "metadata": {},
   "outputs": [
    {
     "name": "stdout",
     "output_type": "stream",
     "text": [
      "My age is 30\n",
      "My age is 31\n",
      "My age is 32\n",
      "My age is 33\n",
      "My age is 34\n",
      "My age is 35\n",
      "My age is 36\n",
      "My age is 37\n",
      "My age is 38\n",
      "My age is 39\n",
      "My age is 40\n",
      "My age is 41\n",
      "My age is 42\n",
      "My age is 43\n",
      "My age is 44\n"
     ]
    }
   ],
   "source": [
    "#testing the for loop:\n",
    "\n",
    "for x in range(30,45):\n",
    "    print (\"My age is %d\" %(x))"
   ]
  },
  {
   "cell_type": "code",
   "execution_count": 19,
   "id": "3bc423d7-e634-4aad-a425-15c9d3053e5f",
   "metadata": {},
   "outputs": [
    {
     "data": {
      "text/plain": [
       "orders_days_of_week\n",
       "0    6204182\n",
       "1    5660230\n",
       "6    4496490\n",
       "2    4213830\n",
       "5    4205791\n",
       "3    3840534\n",
       "4    3783802\n",
       "Name: count, dtype: int64"
      ]
     },
     "execution_count": 19,
     "metadata": {},
     "output_type": "execute_result"
    }
   ],
   "source": [
    "#checking the frequency or orders_days_of_week:\n",
    "df_ords_prods_merge['orders_days_of_week'].value_counts(dropna = False)"
   ]
  },
  {
   "cell_type": "code",
   "execution_count": 25,
   "id": "9817384d-30c2-41d2-b5da-f11de5691c76",
   "metadata": {},
   "outputs": [],
   "source": [
    "#Creating a loop for seeing busiest days:\n",
    "result = []\n",
    "\n",
    "for value in df_ords_prods_merge[\"orders_days_of_week\"]:\n",
    "  if value == 0:\n",
    "    result.append(\"Busiest day\")\n",
    "  elif value == 4:\n",
    "    result.append(\"Least busy\")\n",
    "  else:\n",
    "    result.append(\"Regularly busy\")"
   ]
  },
  {
   "cell_type": "code",
   "execution_count": 27,
   "id": "49fa8fc6-408c-4fb5-8488-ceba3dbc7791",
   "metadata": {},
   "outputs": [],
   "source": [
    "#In your project brief, you can see that the value 0 means Saturday. This value has the highest frequency, meaning Saturday is the busiest day. Meanwhile, the 4 value has the lowest frequency. A value of 4, here, refers to Wednesday, meaning Wednesday is the slowest day for Instacart app orders."
   ]
  },
  {
   "cell_type": "code",
   "execution_count": 29,
   "id": "5c4ca318-8229-427e-8f3c-4db0db449267",
   "metadata": {},
   "outputs": [],
   "source": [
    "#Not checking the result as it will be a long list"
   ]
  },
  {
   "cell_type": "code",
   "execution_count": 31,
   "id": "a3c665e0-bad9-4c58-a966-d42bef602e48",
   "metadata": {},
   "outputs": [],
   "source": [
    "# Let us create a new Column\n",
    "df_ords_prods_merge['busiest_day'] = result"
   ]
  },
  {
   "cell_type": "code",
   "execution_count": 33,
   "id": "3c9bcbcb-1240-439d-b5e0-7e322a89c4ce",
   "metadata": {},
   "outputs": [
    {
     "data": {
      "text/plain": [
       "busiest_day\n",
       "Regularly busy    22416875\n",
       "Busiest day        6204182\n",
       "Least busy         3783802\n",
       "Name: count, dtype: int64"
      ]
     },
     "execution_count": 33,
     "metadata": {},
     "output_type": "execute_result"
    }
   ],
   "source": [
    "#checking to see if the days match with order_days_of_week:\n",
    "df_ords_prods_merge['busiest_day'].value_counts(dropna = False)"
   ]
  },
  {
   "cell_type": "markdown",
   "id": "07c23580-e6b4-4158-942f-208b2d40cc83",
   "metadata": {},
   "source": [
    "#### Checked 1, 2, 3, 5 and 6 sum up to 22416875"
   ]
  },
  {
   "cell_type": "markdown",
   "id": "4219a2f6-cb4d-43a4-a097-6e30bf2152af",
   "metadata": {},
   "source": [
    "## Question 02"
   ]
  },
  {
   "cell_type": "code",
   "execution_count": 39,
   "id": "f08ace41-9ab9-46dc-b9c8-30af66de3b23",
   "metadata": {},
   "outputs": [],
   "source": [
    "# Create column “busiest_days\" from \"orders_day_of_week\" to identify two busiest days (0, 1), slowest days (4, 3), or regularly busy (all other days).\n",
    "\n",
    "result_2 = []\n",
    "\n",
    "for value in df_ords_prods_merge[\"orders_days_of_week\"]:\n",
    "  if value == 0 or value == 1:\n",
    "    result_2.append(\"Busiest days\")\n",
    "  elif value == 4 or value == 3:\n",
    "    result_2.append(\"Slowest days\")\n",
    "  else:\n",
    "    result_2.append(\"Regularly busy\")"
   ]
  },
  {
   "cell_type": "code",
   "execution_count": 43,
   "id": "a480a102-6100-4931-b987-e02ee90eeb81",
   "metadata": {},
   "outputs": [],
   "source": [
    "# Making this into a new Column:\n",
    "df_ords_prods_merge['busiest_days'] = result_2"
   ]
  },
  {
   "cell_type": "code",
   "execution_count": 45,
   "id": "d850799e-3a25-4f8d-9f31-b54ecd891ff6",
   "metadata": {},
   "outputs": [
    {
     "data": {
      "text/plain": [
       "busiest_days\n",
       "Regularly busy    12916111\n",
       "Busiest days      11864412\n",
       "Slowest days       7624336\n",
       "Name: count, dtype: int64"
      ]
     },
     "execution_count": 45,
     "metadata": {},
     "output_type": "execute_result"
    }
   ],
   "source": [
    "#checking to see if the days match with order_days_of_week:\n",
    "df_ords_prods_merge['busiest_days'].value_counts(dropna = False)"
   ]
  },
  {
   "cell_type": "markdown",
   "id": "cb5c8c66-d280-49d0-8d5c-081dc1eaa953",
   "metadata": {},
   "source": [
    "### Question 04. When too many users make Instacart orders at the same time, the app freezes. The senior technical officer at Instacart wants you to identify the busiest hours of the day. Rather than by hour, they want periods of time labeled “Most orders,” “Average orders,” and “Fewest orders.” Create a new column containing these labels called “busiest_period_of_day.”"
   ]
  },
  {
   "cell_type": "code",
   "execution_count": 48,
   "id": "220d62a0-b9ee-421e-a655-9ca55beffdff",
   "metadata": {},
   "outputs": [
    {
     "data": {
      "text/plain": [
       "order_hour_of_day\n",
       "10    2761760\n",
       "11    2736140\n",
       "14    2689136\n",
       "15    2662144\n",
       "13    2660954\n",
       "12    2618532\n",
       "16    2535202\n",
       "9     2454203\n",
       "17    2087654\n",
       "8     1718118\n",
       "18    1636502\n",
       "19    1258305\n",
       "20     976156\n",
       "7      891054\n",
       "21     795637\n",
       "22     634225\n",
       "23     402316\n",
       "6      290493\n",
       "0      218769\n",
       "1      115700\n",
       "5       87961\n",
       "2       69375\n",
       "4       53242\n",
       "3       51281\n",
       "Name: count, dtype: int64"
      ]
     },
     "execution_count": 48,
     "metadata": {},
     "output_type": "execute_result"
    }
   ],
   "source": [
    "# Check value counts in \"order_hour_of_day\" column.\n",
    "\n",
    "df_ords_prods_merge['order_hour_of_day'].value_counts()"
   ]
  },
  {
   "cell_type": "markdown",
   "id": "42ba44a2-4250-4aaa-a89f-8dcf4418d977",
   "metadata": {},
   "source": [
    "The value counts listed above will be split into equal thirds for the following labels: \"Most orders\" = 9, 10, 11, 12, 13, 14, 15, 16; \"Fewest orders\" = 23, 0, 1, 2, 3, 4, 5 and 6; \"Average orders\" = all remaining values in order_hour_of_day."
   ]
  },
  {
   "cell_type": "code",
   "execution_count": 53,
   "id": "6fbfc98d-5f8a-418a-841e-84f038da3700",
   "metadata": {},
   "outputs": [],
   "source": [
    "#Create for-loop if statement labeling periods of time as “Most orders,” “Average orders,” and “Fewest orders.”\n",
    "\n",
    "result_3 = []\n",
    "\n",
    "for value in df_ords_prods_merge[\"order_hour_of_day\"]:\n",
    "  if value in [10, 11, 14, 15, 13, 12, 16, 9]:\n",
    "    result_3.append(\"Most orders\")\n",
    "  elif value in [23, 6, 0, 1, 5, 2, 4, 3]:\n",
    "    result_3.append(\"Fewest orders\")\n",
    "  else:\n",
    "    result_3.append(\"Average orders\")"
   ]
  },
  {
   "cell_type": "code",
   "execution_count": 55,
   "id": "d19f3811-15d3-4421-bf96-e921dbb31a32",
   "metadata": {},
   "outputs": [],
   "source": [
    "# Create new column \"busiest_period_of_day\" in ords_prods_merge.\n",
    "\n",
    "df_ords_prods_merge['busiest_period_of_day'] = result_3"
   ]
  },
  {
   "cell_type": "markdown",
   "id": "7edb41ce-bf06-4fbe-a0f8-2487b365797b",
   "metadata": {},
   "source": [
    "### Print the frequency for this new Column"
   ]
  },
  {
   "cell_type": "code",
   "execution_count": 60,
   "id": "02b01ecc-cb54-4857-9c67-39b1e08829f3",
   "metadata": {},
   "outputs": [
    {
     "data": {
      "text/plain": [
       "busiest_period_of_day\n",
       "Most orders       21118071\n",
       "Average orders     9997651\n",
       "Fewest orders      1289137\n",
       "Name: count, dtype: int64"
      ]
     },
     "execution_count": 60,
     "metadata": {},
     "output_type": "execute_result"
    }
   ],
   "source": [
    "# Print value counts in \"busiest_period_of_day\" column.\n",
    "\n",
    "df_ords_prods_merge['busiest_period_of_day'].value_counts(dropna = False)"
   ]
  },
  {
   "cell_type": "markdown",
   "id": "5e2c873c-b656-4b42-8cdb-8adc97ffbcf9",
   "metadata": {},
   "source": [
    "#### Check count for fewest orders against the hours:\n",
    "It amounts to 1289137 which is the exact number of the fewest order."
   ]
  },
  {
   "cell_type": "markdown",
   "id": "99b6af9b-998f-45e7-837c-bb86ab3e2141",
   "metadata": {},
   "source": [
    "#### Export the Dataframe"
   ]
  },
  {
   "cell_type": "code",
   "execution_count": 64,
   "id": "61035608-9592-43eb-8593-935c674edf36",
   "metadata": {},
   "outputs": [],
   "source": [
    "df_ords_prods_merge.to_pickle(os.path.join(path, '02 Data', 'Prepared Data', 'orders_products_merged_new.pkl'))"
   ]
  },
  {
   "cell_type": "code",
   "execution_count": null,
   "id": "aa9ec707-12ec-4d3c-ad85-212a9c9373c1",
   "metadata": {},
   "outputs": [],
   "source": []
  }
 ],
 "metadata": {
  "kernelspec": {
   "display_name": "Python 3 (ipykernel)",
   "language": "python",
   "name": "python3"
  },
  "language_info": {
   "codemirror_mode": {
    "name": "ipython",
    "version": 3
   },
   "file_extension": ".py",
   "mimetype": "text/x-python",
   "name": "python",
   "nbconvert_exporter": "python",
   "pygments_lexer": "ipython3",
   "version": "3.12.4"
  }
 },
 "nbformat": 4,
 "nbformat_minor": 5
}
