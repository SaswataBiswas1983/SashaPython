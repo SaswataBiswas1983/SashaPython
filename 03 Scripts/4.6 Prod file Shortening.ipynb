{
 "cells": [
  {
   "cell_type": "markdown",
   "id": "cd71d13f-93ef-461b-aede-77ca33a4b925",
   "metadata": {},
   "source": [
    "# Target to shorten the Products file"
   ]
  },
  {
   "cell_type": "code",
   "execution_count": 2,
   "id": "8d3d673b-9033-4f03-a5be-6260a1302acd",
   "metadata": {},
   "outputs": [],
   "source": [
    "#import Libraries as usual:\n",
    "import pandas as pd\n",
    "import numpy as np\n",
    "import os"
   ]
  },
  {
   "cell_type": "code",
   "execution_count": 4,
   "id": "941c05c2-1d0f-40b3-8462-25603ba3aef7",
   "metadata": {},
   "outputs": [],
   "source": [
    "#Create a path to use\n",
    "path = r'C:\\Users\\Lenovo\\Desktop\\Career Foundry\\28-06-2024 Instacart Basket Analysis - Saswata Biswas'"
   ]
  },
  {
   "cell_type": "code",
   "execution_count": 6,
   "id": "6b1803f1-6beb-46f2-bbe9-5cf9e1e69d19",
   "metadata": {},
   "outputs": [],
   "source": [
    "#Creating vars_list for prods\n",
    "\n",
    "vars_list = ['product_id', 'product_name', 'aisle_id', 'department_id', 'prices']"
   ]
  },
  {
   "cell_type": "code",
   "execution_count": 8,
   "id": "083a4225-e9e7-46f3-a471-447636a0c2b6",
   "metadata": {},
   "outputs": [],
   "source": [
    "# Import the prods df:\n",
    "df_prods = pd.read_csv(os.path.join(path, '02 Data', 'Prepared Data', 'products_checked.csv'), usecols = vars_list)"
   ]
  },
  {
   "cell_type": "markdown",
   "id": "f3c1b4ad-df9c-4bb3-b94e-0408d29a377e",
   "metadata": {},
   "source": [
    "## Check data type to be sure"
   ]
  },
  {
   "cell_type": "code",
   "execution_count": 11,
   "id": "1de94a08-e42f-4e70-98d2-4525c0f79258",
   "metadata": {},
   "outputs": [
    {
     "data": {
      "text/plain": [
       "product_id         int64\n",
       "product_name      object\n",
       "aisle_id           int64\n",
       "department_id      int64\n",
       "prices           float64\n",
       "dtype: object"
      ]
     },
     "execution_count": 11,
     "metadata": {},
     "output_type": "execute_result"
    }
   ],
   "source": [
    "df_prods.dtypes"
   ]
  },
  {
   "cell_type": "markdown",
   "id": "248766e7-e1c3-4894-9710-a1bf3cd06786",
   "metadata": {},
   "source": [
    "## Change the required data type"
   ]
  },
  {
   "cell_type": "code",
   "execution_count": 14,
   "id": "70b1ac7f-f81f-42d6-9168-4d645044ce5f",
   "metadata": {},
   "outputs": [],
   "source": [
    "df_prods['product_id']= df_prods['product_id'].astype('int32')"
   ]
  },
  {
   "cell_type": "code",
   "execution_count": 16,
   "id": "f6af07ec-31e1-4c1f-9699-e4f80f8b1fa5",
   "metadata": {},
   "outputs": [],
   "source": [
    "df_prods['aisle_id']= df_prods['aisle_id'].astype('int32')"
   ]
  },
  {
   "cell_type": "code",
   "execution_count": 18,
   "id": "749fcc40-1bc0-4675-975a-7d64ba0ed2bc",
   "metadata": {},
   "outputs": [],
   "source": [
    "df_prods['department_id']= df_prods['department_id'].astype('int16')"
   ]
  },
  {
   "cell_type": "code",
   "execution_count": 20,
   "id": "34082175-eaa3-4eea-92a5-313f4e797318",
   "metadata": {},
   "outputs": [],
   "source": [
    "df_prods['prices']= df_prods['prices'].astype('float32')"
   ]
  },
  {
   "cell_type": "markdown",
   "id": "91ba53c5-4c82-4517-9576-45cbf696147d",
   "metadata": {},
   "source": [
    "### Check whether data type is changed"
   ]
  },
  {
   "cell_type": "code",
   "execution_count": 23,
   "id": "8d5b13bc-38c5-41c6-9ddc-c9ff25f250a3",
   "metadata": {},
   "outputs": [
    {
     "data": {
      "text/plain": [
       "product_id         int32\n",
       "product_name      object\n",
       "aisle_id           int32\n",
       "department_id      int16\n",
       "prices           float32\n",
       "dtype: object"
      ]
     },
     "execution_count": 23,
     "metadata": {},
     "output_type": "execute_result"
    }
   ],
   "source": [
    "df_prods.dtypes"
   ]
  },
  {
   "cell_type": "markdown",
   "id": "34fb5caa-e041-45f4-8cc8-7929e1e6c655",
   "metadata": {},
   "source": [
    "### Export the changed file"
   ]
  },
  {
   "cell_type": "code",
   "execution_count": 27,
   "id": "1b428bc4-3dbe-4e20-8314-d57f07d0e627",
   "metadata": {},
   "outputs": [],
   "source": [
    "df_prods.to_csv(os.path.join(path, '02 Data','Prepared Data', 'product_checked.csv'))"
   ]
  },
  {
   "cell_type": "code",
   "execution_count": null,
   "id": "6d1584bd-0fe6-4048-ba05-9bd02036f087",
   "metadata": {},
   "outputs": [],
   "source": []
  }
 ],
 "metadata": {
  "kernelspec": {
   "display_name": "Python 3 (ipykernel)",
   "language": "python",
   "name": "python3"
  },
  "language_info": {
   "codemirror_mode": {
    "name": "ipython",
    "version": 3
   },
   "file_extension": ".py",
   "mimetype": "text/x-python",
   "name": "python",
   "nbconvert_exporter": "python",
   "pygments_lexer": "ipython3",
   "version": "3.12.4"
  }
 },
 "nbformat": 4,
 "nbformat_minor": 5
}
